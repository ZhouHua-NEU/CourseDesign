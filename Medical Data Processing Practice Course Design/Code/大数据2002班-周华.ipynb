{
 "cells": [
  {
   "cell_type": "markdown",
   "id": "afa8780e-637a-4688-a002-d302d3ce8b16",
   "metadata": {},
   "source": [
    "<font size=24>2020级医疗数据处理实践-评测任务</font>"
   ]
  },
  {
   "cell_type": "markdown",
   "id": "d997aa67-ddc8-47e5-8560-e0ddf2cacaa4",
   "metadata": {},
   "source": [
    "# 个人信息\n",
    "- 班级：大数据2002\n",
    "- 姓名：周华"
   ]
  },
  {
   "cell_type": "markdown",
   "id": "99d83b8d-5a5d-4e83-bd04-865389950f20",
   "metadata": {},
   "source": [
    "# 任务\n",
    "- 数据集：项目六\n",
    "- 数据集文件：06.titanic-test.csv,06.titanic-train.csv\n",
    "- 简要介绍：泰坦尼克号数据"
   ]
  },
  {
   "cell_type": "markdown",
   "id": "7cbbaa12-e46f-4a24-90be-6fdd7930d62b",
   "metadata": {},
   "source": [
    "# 代码部分"
   ]
  },
  {
   "cell_type": "markdown",
   "id": "59de6055-885c-4f9e-893d-a6d781146852",
   "metadata": {},
   "source": [
    "## 导入包"
   ]
  },
  {
   "cell_type": "code",
   "execution_count": 1,
   "id": "267d8409-7346-4307-9a18-9326566527e7",
   "metadata": {
    "tags": []
   },
   "outputs": [],
   "source": [
    "#导入常用包\n",
    "import numpy as np\n",
    "import pandas as pd \n",
    "import matplotlib.pyplot as plt\n",
    "import seaborn as sns\n",
    "import random as rnd  \n",
    "%matplotlib inline\n",
    "\n",
    "#导入深度学习框架pytorch\n",
    "import torch\n",
    "from torch.autograd import Variable\n",
    "import torch.nn as nn\n",
    "import torch.nn.functional as F\n",
    "import torch.optim as optim\n",
    "\n",
    "#导入机器学习包\n",
    "from sklearn.linear_model import LogisticRegression   #逻辑回归\n",
    "from sklearn.svm import SVC, LinearSVC                #SVC\n",
    "from sklearn.ensemble import RandomForestClassifier   #随机森林\n",
    "from sklearn.neighbors import KNeighborsClassifier    #KNN\n",
    "from sklearn.naive_bayes import GaussianNB            #贝叶斯\n",
    "from sklearn.linear_model import Perceptron           #感知机\n",
    "from sklearn.linear_model import SGDClassifier        #SGD\n",
    "from sklearn.tree import DecisionTreeClassifier       #决策树\n",
    "\n",
    "#其他包\n",
    "import warnings\n",
    "warnings.filterwarnings(\"ignore\")"
   ]
  },
  {
   "cell_type": "markdown",
   "id": "7e6739a3-537f-4b93-a849-96cfca2f5cad",
   "metadata": {},
   "source": [
    "## 数据读取"
   ]
  },
  {
   "cell_type": "code",
   "execution_count": 2,
   "id": "e9cd773c-eeeb-451d-9628-f02d838cd3ad",
   "metadata": {
    "tags": []
   },
   "outputs": [],
   "source": [
    "train=pd.read_csv('./input/06.titanic-train.csv')\n",
    "test=pd.read_csv('./input/06.titanic-test.csv')\n",
    "combine = [train, test]"
   ]
  },
  {
   "cell_type": "markdown",
   "id": "b9829198-b25f-49cc-9d1a-6ec57a506f15",
   "metadata": {
    "jp-MarkdownHeadingCollapsed": true,
    "tags": []
   },
   "source": [
    "## EDA（数据初探）"
   ]
  },
  {
   "cell_type": "markdown",
   "id": "1715017e-0381-42d4-98e1-d709338dd741",
   "metadata": {
    "jp-MarkdownHeadingCollapsed": true,
    "tags": []
   },
   "source": [
    "### 数据查看"
   ]
  },
  {
   "cell_type": "markdown",
   "id": "0243e829-7eae-429b-953f-38a5479a3e6b",
   "metadata": {},
   "source": [
    "#### 查看前5行数据"
   ]
  },
  {
   "cell_type": "code",
   "execution_count": 3,
   "id": "0e2cbcab-a1c6-4a60-b390-636808e2d4f9",
   "metadata": {},
   "outputs": [
    {
     "data": {
      "text/html": [
       "<div>\n",
       "<style scoped>\n",
       "    .dataframe tbody tr th:only-of-type {\n",
       "        vertical-align: middle;\n",
       "    }\n",
       "\n",
       "    .dataframe tbody tr th {\n",
       "        vertical-align: top;\n",
       "    }\n",
       "\n",
       "    .dataframe thead th {\n",
       "        text-align: right;\n",
       "    }\n",
       "</style>\n",
       "<table border=\"1\" class=\"dataframe\">\n",
       "  <thead>\n",
       "    <tr style=\"text-align: right;\">\n",
       "      <th></th>\n",
       "      <th>PassengerId</th>\n",
       "      <th>Survived</th>\n",
       "      <th>Pclass</th>\n",
       "      <th>Name</th>\n",
       "      <th>Sex</th>\n",
       "      <th>Age</th>\n",
       "      <th>SibSp</th>\n",
       "      <th>Parch</th>\n",
       "      <th>Ticket</th>\n",
       "      <th>Fare</th>\n",
       "      <th>Cabin</th>\n",
       "      <th>Embarked</th>\n",
       "    </tr>\n",
       "  </thead>\n",
       "  <tbody>\n",
       "    <tr>\n",
       "      <th>0</th>\n",
       "      <td>1</td>\n",
       "      <td>0</td>\n",
       "      <td>3</td>\n",
       "      <td>Braund, Mr. Owen Harris</td>\n",
       "      <td>male</td>\n",
       "      <td>22.0</td>\n",
       "      <td>1</td>\n",
       "      <td>0</td>\n",
       "      <td>A/5 21171</td>\n",
       "      <td>7.2500</td>\n",
       "      <td>NaN</td>\n",
       "      <td>S</td>\n",
       "    </tr>\n",
       "    <tr>\n",
       "      <th>1</th>\n",
       "      <td>2</td>\n",
       "      <td>1</td>\n",
       "      <td>1</td>\n",
       "      <td>Cumings, Mrs. John Bradley (Florence Briggs Th...</td>\n",
       "      <td>female</td>\n",
       "      <td>38.0</td>\n",
       "      <td>1</td>\n",
       "      <td>0</td>\n",
       "      <td>PC 17599</td>\n",
       "      <td>71.2833</td>\n",
       "      <td>C85</td>\n",
       "      <td>C</td>\n",
       "    </tr>\n",
       "    <tr>\n",
       "      <th>2</th>\n",
       "      <td>3</td>\n",
       "      <td>1</td>\n",
       "      <td>3</td>\n",
       "      <td>Heikkinen, Miss. Laina</td>\n",
       "      <td>female</td>\n",
       "      <td>26.0</td>\n",
       "      <td>0</td>\n",
       "      <td>0</td>\n",
       "      <td>STON/O2. 3101282</td>\n",
       "      <td>7.9250</td>\n",
       "      <td>NaN</td>\n",
       "      <td>S</td>\n",
       "    </tr>\n",
       "    <tr>\n",
       "      <th>3</th>\n",
       "      <td>4</td>\n",
       "      <td>1</td>\n",
       "      <td>1</td>\n",
       "      <td>Futrelle, Mrs. Jacques Heath (Lily May Peel)</td>\n",
       "      <td>female</td>\n",
       "      <td>35.0</td>\n",
       "      <td>1</td>\n",
       "      <td>0</td>\n",
       "      <td>113803</td>\n",
       "      <td>53.1000</td>\n",
       "      <td>C123</td>\n",
       "      <td>S</td>\n",
       "    </tr>\n",
       "    <tr>\n",
       "      <th>4</th>\n",
       "      <td>5</td>\n",
       "      <td>0</td>\n",
       "      <td>3</td>\n",
       "      <td>Allen, Mr. William Henry</td>\n",
       "      <td>male</td>\n",
       "      <td>35.0</td>\n",
       "      <td>0</td>\n",
       "      <td>0</td>\n",
       "      <td>373450</td>\n",
       "      <td>8.0500</td>\n",
       "      <td>NaN</td>\n",
       "      <td>S</td>\n",
       "    </tr>\n",
       "  </tbody>\n",
       "</table>\n",
       "</div>"
      ],
      "text/plain": [
       "   PassengerId  Survived  Pclass  \\\n",
       "0            1         0       3   \n",
       "1            2         1       1   \n",
       "2            3         1       3   \n",
       "3            4         1       1   \n",
       "4            5         0       3   \n",
       "\n",
       "                                                Name     Sex   Age  SibSp  \\\n",
       "0                            Braund, Mr. Owen Harris    male  22.0      1   \n",
       "1  Cumings, Mrs. John Bradley (Florence Briggs Th...  female  38.0      1   \n",
       "2                             Heikkinen, Miss. Laina  female  26.0      0   \n",
       "3       Futrelle, Mrs. Jacques Heath (Lily May Peel)  female  35.0      1   \n",
       "4                           Allen, Mr. William Henry    male  35.0      0   \n",
       "\n",
       "   Parch            Ticket     Fare Cabin Embarked  \n",
       "0      0         A/5 21171   7.2500   NaN        S  \n",
       "1      0          PC 17599  71.2833   C85        C  \n",
       "2      0  STON/O2. 3101282   7.9250   NaN        S  \n",
       "3      0            113803  53.1000  C123        S  \n",
       "4      0            373450   8.0500   NaN        S  "
      ]
     },
     "execution_count": 3,
     "metadata": {},
     "output_type": "execute_result"
    }
   ],
   "source": [
    "train.head(5)"
   ]
  },
  {
   "cell_type": "markdown",
   "id": "cbaff2ce-7b51-4644-bc43-38b4bf563fd8",
   "metadata": {},
   "source": [
    "<font color='#ff590b'><font size=5> 包含12个属性，分别为乘客Id，是否幸存，客舱等级，姓名，性别，年龄，同代亲属数，不同代亲属数，船票编号，床票价格，客舱号，登船港口</font><br/>"
   ]
  },
  {
   "cell_type": "markdown",
   "id": "e11d6553-8679-4a12-a74d-5d0eabbb0ecc",
   "metadata": {},
   "source": [
    "#### 查看数据行数列数"
   ]
  },
  {
   "cell_type": "code",
   "execution_count": 4,
   "id": "9caededc-5fd6-4739-87c9-2de72a64b33b",
   "metadata": {},
   "outputs": [
    {
     "data": {
      "text/plain": [
       "(891, 12)"
      ]
     },
     "execution_count": 4,
     "metadata": {},
     "output_type": "execute_result"
    }
   ],
   "source": [
    "train.shape"
   ]
  },
  {
   "cell_type": "markdown",
   "id": "451de843-9a7e-4180-bc75-9496a40e73d7",
   "metadata": {},
   "source": [
    "#### 查看数据基本信息"
   ]
  },
  {
   "cell_type": "code",
   "execution_count": 5,
   "id": "169ed363-4f15-407c-8062-e1f9bcd270d3",
   "metadata": {},
   "outputs": [
    {
     "name": "stdout",
     "output_type": "stream",
     "text": [
      "<class 'pandas.core.frame.DataFrame'>\n",
      "RangeIndex: 891 entries, 0 to 890\n",
      "Data columns (total 12 columns):\n",
      " #   Column       Non-Null Count  Dtype  \n",
      "---  ------       --------------  -----  \n",
      " 0   PassengerId  891 non-null    int64  \n",
      " 1   Survived     891 non-null    int64  \n",
      " 2   Pclass       891 non-null    int64  \n",
      " 3   Name         891 non-null    object \n",
      " 4   Sex          891 non-null    object \n",
      " 5   Age          714 non-null    float64\n",
      " 6   SibSp        891 non-null    int64  \n",
      " 7   Parch        891 non-null    int64  \n",
      " 8   Ticket       891 non-null    object \n",
      " 9   Fare         891 non-null    float64\n",
      " 10  Cabin        204 non-null    object \n",
      " 11  Embarked     889 non-null    object \n",
      "dtypes: float64(2), int64(5), object(5)\n",
      "memory usage: 83.7+ KB\n"
     ]
    }
   ],
   "source": [
    "train.info()"
   ]
  },
  {
   "cell_type": "markdown",
   "id": "2f740bad-568a-4109-8903-1a1ab66be9eb",
   "metadata": {},
   "source": [
    "#### 查看缺失值"
   ]
  },
  {
   "cell_type": "code",
   "execution_count": 6,
   "id": "0e71c255-0336-41f8-96c0-7b9a4fe95df8",
   "metadata": {},
   "outputs": [
    {
     "data": {
      "text/plain": [
       "PassengerId      0\n",
       "Survived         0\n",
       "Pclass           0\n",
       "Name             0\n",
       "Sex              0\n",
       "Age            177\n",
       "SibSp            0\n",
       "Parch            0\n",
       "Ticket           0\n",
       "Fare             0\n",
       "Cabin          687\n",
       "Embarked         2\n",
       "dtype: int64"
      ]
     },
     "execution_count": 6,
     "metadata": {},
     "output_type": "execute_result"
    },
    {
     "data": {
      "image/png": "[encoded data removed]",
      "text/plain": [
       "<Figure size 432x288 with 1 Axes>"
      ]
     },
     "metadata": {
      "needs_background": "light"
     },
     "output_type": "display_data"
    }
   ],
   "source": [
    "train.isnull().sum().plot(kind='bar',title='null')\n",
    "train.isnull().sum()"
   ]
  },
  {
   "cell_type": "code",
   "execution_count": 7,
   "id": "3988dd31-a8a3-4388-89e5-b830ddd907a7",
   "metadata": {},
   "outputs": [
    {
     "data": {
      "text/plain": [
       "PassengerId      0\n",
       "Pclass           0\n",
       "Name             0\n",
       "Sex              0\n",
       "Age             86\n",
       "SibSp            0\n",
       "Parch            0\n",
       "Ticket           0\n",
       "Fare             1\n",
       "Cabin          327\n",
       "Embarked         0\n",
       "dtype: int64"
      ]
     },
     "execution_count": 7,
     "metadata": {},
     "output_type": "execute_result"
    },
    {
     "data": {
      "image/png": "[encoded data removed]",
      "text/plain": [
       "<Figure size 432x288 with 1 Axes>"
      ]
     },
     "metadata": {
      "needs_background": "light"
     },
     "output_type": "display_data"
    }
   ],
   "source": [
    "test.isnull().sum().plot(kind='bar',title='null')\n",
    "test.isnull().sum()"
   ]
  },
  {
   "cell_type": "markdown",
   "id": "600f7e9f-d388-4943-a203-26b385bff05f",
   "metadata": {},
   "source": [
    "<font color='#ff590b'><font size=5> age,cabin,embarke含有缺失值</font><br/>"
   ]
  },
  {
   "cell_type": "markdown",
   "id": "ce82fd59-be01-4d6a-89da-3cdae41e7c66",
   "metadata": {},
   "source": [
    "####  查看数据统计信息"
   ]
  },
  {
   "cell_type": "code",
   "execution_count": 8,
   "id": "1330413a-97d3-4a0a-91d9-04120ea6a2f4",
   "metadata": {},
   "outputs": [
    {
     "data": {
      "text/html": [
       "<div>\n",
       "<style scoped>\n",
       "    .dataframe tbody tr th:only-of-type {\n",
       "        vertical-align: middle;\n",
       "    }\n",
       "\n",
       "    .dataframe tbody tr th {\n",
       "        vertical-align: top;\n",
       "    }\n",
       "\n",
       "    .dataframe thead th {\n",
       "        text-align: right;\n",
       "    }\n",
       "</style>\n",
       "<table border=\"1\" class=\"dataframe\">\n",
       "  <thead>\n",
       "    <tr style=\"text-align: right;\">\n",
       "      <th></th>\n",
       "      <th>PassengerId</th>\n",
       "      <th>Survived</th>\n",
       "      <th>Pclass</th>\n",
       "      <th>Age</th>\n",
       "      <th>SibSp</th>\n",
       "      <th>Parch</th>\n",
       "      <th>Fare</th>\n",
       "    </tr>\n",
       "  </thead>\n",
       "  <tbody>\n",
       "    <tr>\n",
       "      <th>count</th>\n",
       "      <td>891.000000</td>\n",
       "      <td>891.000000</td>\n",
       "      <td>891.000000</td>\n",
       "      <td>714.000000</td>\n",
       "      <td>891.000000</td>\n",
       "      <td>891.000000</td>\n",
       "      <td>891.000000</td>\n",
       "    </tr>\n",
       "    <tr>\n",
       "      <th>mean</th>\n",
       "      <td>446.000000</td>\n",
       "      <td>0.383838</td>\n",
       "      <td>2.308642</td>\n",
       "      <td>29.699118</td>\n",
       "      <td>0.523008</td>\n",
       "      <td>0.381594</td>\n",
       "      <td>32.204208</td>\n",
       "    </tr>\n",
       "    <tr>\n",
       "      <th>std</th>\n",
       "      <td>257.353842</td>\n",
       "      <td>0.486592</td>\n",
       "      <td>0.836071</td>\n",
       "      <td>14.526497</td>\n",
       "      <td>1.102743</td>\n",
       "      <td>0.806057</td>\n",
       "      <td>49.693429</td>\n",
       "    </tr>\n",
       "    <tr>\n",
       "      <th>min</th>\n",
       "      <td>1.000000</td>\n",
       "      <td>0.000000</td>\n",
       "      <td>1.000000</td>\n",
       "      <td>0.420000</td>\n",
       "      <td>0.000000</td>\n",
       "      <td>0.000000</td>\n",
       "      <td>0.000000</td>\n",
       "    </tr>\n",
       "    <tr>\n",
       "      <th>25%</th>\n",
       "      <td>223.500000</td>\n",
       "      <td>0.000000</td>\n",
       "      <td>2.000000</td>\n",
       "      <td>20.125000</td>\n",
       "      <td>0.000000</td>\n",
       "      <td>0.000000</td>\n",
       "      <td>7.910400</td>\n",
       "    </tr>\n",
       "    <tr>\n",
       "      <th>50%</th>\n",
       "      <td>446.000000</td>\n",
       "      <td>0.000000</td>\n",
       "      <td>3.000000</td>\n",
       "      <td>28.000000</td>\n",
       "      <td>0.000000</td>\n",
       "      <td>0.000000</td>\n",
       "      <td>14.454200</td>\n",
       "    </tr>\n",
       "    <tr>\n",
       "      <th>75%</th>\n",
       "      <td>668.500000</td>\n",
       "      <td>1.000000</td>\n",
       "      <td>3.000000</td>\n",
       "      <td>38.000000</td>\n",
       "      <td>1.000000</td>\n",
       "      <td>0.000000</td>\n",
       "      <td>31.000000</td>\n",
       "    </tr>\n",
       "    <tr>\n",
       "      <th>max</th>\n",
       "      <td>891.000000</td>\n",
       "      <td>1.000000</td>\n",
       "      <td>3.000000</td>\n",
       "      <td>80.000000</td>\n",
       "      <td>8.000000</td>\n",
       "      <td>6.000000</td>\n",
       "      <td>512.329200</td>\n",
       "    </tr>\n",
       "  </tbody>\n",
       "</table>\n",
       "</div>"
      ],
      "text/plain": [
       "       PassengerId    Survived      Pclass         Age       SibSp  \\\n",
       "count   891.000000  891.000000  891.000000  714.000000  891.000000   \n",
       "mean    446.000000    0.383838    2.308642   29.699118    0.523008   \n",
       "std     257.353842    0.486592    0.836071   14.526497    1.102743   \n",
       "min       1.000000    0.000000    1.000000    0.420000    0.000000   \n",
       "25%     223.500000    0.000000    2.000000   20.125000    0.000000   \n",
       "50%     446.000000    0.000000    3.000000   28.000000    0.000000   \n",
       "75%     668.500000    1.000000    3.000000   38.000000    1.000000   \n",
       "max     891.000000    1.000000    3.000000   80.000000    8.000000   \n",
       "\n",
       "            Parch        Fare  \n",
       "count  891.000000  891.000000  \n",
       "mean     0.381594   32.204208  \n",
       "std      0.806057   49.693429  \n",
       "min      0.000000    0.000000  \n",
       "25%      0.000000    7.910400  \n",
       "50%      0.000000   14.454200  \n",
       "75%      0.000000   31.000000  \n",
       "max      6.000000  512.329200  "
      ]
     },
     "execution_count": 8,
     "metadata": {},
     "output_type": "execute_result"
    }
   ],
   "source": [
    "train.describe()"
   ]
  },
  {
   "cell_type": "markdown",
   "id": "449a3709-4ed4-444d-98c7-5a7e1689129e",
   "metadata": {},
   "source": [
    " <font color='#ff590b'><font size=5> 各个属性数值均合理</font><br/>"
   ]
  },
  {
   "cell_type": "code",
   "execution_count": 9,
   "id": "41a11559-054a-4f91-a28e-c703513e8113",
   "metadata": {},
   "outputs": [
    {
     "data": {
      "text/html": [
       "<div>\n",
       "<style scoped>\n",
       "    .dataframe tbody tr th:only-of-type {\n",
       "        vertical-align: middle;\n",
       "    }\n",
       "\n",
       "    .dataframe tbody tr th {\n",
       "        vertical-align: top;\n",
       "    }\n",
       "\n",
       "    .dataframe thead th {\n",
       "        text-align: right;\n",
       "    }\n",
       "</style>\n",
       "<table border=\"1\" class=\"dataframe\">\n",
       "  <thead>\n",
       "    <tr style=\"text-align: right;\">\n",
       "      <th></th>\n",
       "      <th>Name</th>\n",
       "      <th>Sex</th>\n",
       "      <th>Ticket</th>\n",
       "      <th>Cabin</th>\n",
       "      <th>Embarked</th>\n",
       "    </tr>\n",
       "  </thead>\n",
       "  <tbody>\n",
       "    <tr>\n",
       "      <th>count</th>\n",
       "      <td>891</td>\n",
       "      <td>891</td>\n",
       "      <td>891</td>\n",
       "      <td>204</td>\n",
       "      <td>889</td>\n",
       "    </tr>\n",
       "    <tr>\n",
       "      <th>unique</th>\n",
       "      <td>891</td>\n",
       "      <td>2</td>\n",
       "      <td>681</td>\n",
       "      <td>147</td>\n",
       "      <td>3</td>\n",
       "    </tr>\n",
       "    <tr>\n",
       "      <th>top</th>\n",
       "      <td>Braund, Mr. Owen Harris</td>\n",
       "      <td>male</td>\n",
       "      <td>347082</td>\n",
       "      <td>B96 B98</td>\n",
       "      <td>S</td>\n",
       "    </tr>\n",
       "    <tr>\n",
       "      <th>freq</th>\n",
       "      <td>1</td>\n",
       "      <td>577</td>\n",
       "      <td>7</td>\n",
       "      <td>4</td>\n",
       "      <td>644</td>\n",
       "    </tr>\n",
       "  </tbody>\n",
       "</table>\n",
       "</div>"
      ],
      "text/plain": [
       "                           Name   Sex  Ticket    Cabin Embarked\n",
       "count                       891   891     891      204      889\n",
       "unique                      891     2     681      147        3\n",
       "top     Braund, Mr. Owen Harris  male  347082  B96 B98        S\n",
       "freq                          1   577       7        4      644"
      ]
     },
     "execution_count": 9,
     "metadata": {},
     "output_type": "execute_result"
    }
   ],
   "source": [
    "train.describe(include=['O'])"
   ]
  },
  {
   "cell_type": "markdown",
   "id": "6597e044-433e-4948-8844-65f695d3a200",
   "metadata": {},
   "source": [
    "<font color='#ff590b'><font size=5>登船港口只有三种，S最多</font><br/>"
   ]
  },
  {
   "cell_type": "markdown",
   "id": "29898897-32c7-4f9f-acde-b284759c7811",
   "metadata": {
    "jp-MarkdownHeadingCollapsed": true,
    "tags": []
   },
   "source": [
    "### 单个属性数据探索"
   ]
  },
  {
   "cell_type": "markdown",
   "id": "5dc57e01-fd5e-4bae-bb6e-b873922b2cd0",
   "metadata": {},
   "source": [
    "#### Survived"
   ]
  },
  {
   "cell_type": "code",
   "execution_count": 10,
   "id": "4da9989f-ca52-4223-aa9c-f7939d248f89",
   "metadata": {},
   "outputs": [
    {
     "data": {
      "text/plain": [
       "0    549\n",
       "1    342\n",
       "Name: Survived, dtype: int64"
      ]
     },
     "execution_count": 10,
     "metadata": {},
     "output_type": "execute_result"
    },
    {
     "data": {
      "image/png": "[encoded data removed]",
      "text/plain": [
       "<Figure size 432x288 with 1 Axes>"
      ]
     },
     "metadata": {},
     "output_type": "display_data"
    }
   ],
   "source": [
    "sns.set_theme(style=\"darkgrid\")\n",
    "sns.countplot(x=train.Survived,data=train)\n",
    "train.Survived.value_counts()"
   ]
  },
  {
   "cell_type": "code",
   "execution_count": 11,
   "id": "3dd845f7-d7d8-4522-880d-9a38b5569fc9",
   "metadata": {},
   "outputs": [
    {
     "data": {
      "text/plain": [
       "0.3838383838383838"
      ]
     },
     "execution_count": 11,
     "metadata": {},
     "output_type": "execute_result"
    }
   ],
   "source": [
    "train.Survived.value_counts()[1]/train.Survived.value_counts().sum()"
   ]
  },
  {
   "cell_type": "markdown",
   "id": "d5f2787f-18c7-429a-abcd-c87563c9f651",
   "metadata": {},
   "source": [
    "<font color='#ff590b'><font size=5> 幸存者比例为 $38.38 \\%$</font><br/>"
   ]
  },
  {
   "cell_type": "markdown",
   "id": "91523f03-373b-4439-8bbb-019a4654c68e",
   "metadata": {},
   "source": [
    "#### Pclass"
   ]
  },
  {
   "cell_type": "code",
   "execution_count": 12,
   "id": "110f5005-43b5-4c79-8d25-1a48c0603c6d",
   "metadata": {},
   "outputs": [
    {
     "data": {
      "text/plain": [
       "3    491\n",
       "1    216\n",
       "2    184\n",
       "Name: Pclass, dtype: int64"
      ]
     },
     "execution_count": 12,
     "metadata": {},
     "output_type": "execute_result"
    },
    {
     "data": {
      "image/png": "[encoded data removed]",
      "text/plain": [
       "<Figure size 432x288 with 1 Axes>"
      ]
     },
     "metadata": {},
     "output_type": "display_data"
    }
   ],
   "source": [
    "sns.set_theme(style=\"whitegrid\")\n",
    "sns.countplot(x=train.Pclass,data=train)\n",
    "train.Pclass.value_counts()"
   ]
  },
  {
   "cell_type": "code",
   "execution_count": 13,
   "id": "2452ee93-d1ed-40bf-8703-606918b95a0f",
   "metadata": {},
   "outputs": [
    {
     "data": {
      "text/plain": [
       "3    0.551066\n",
       "1    0.242424\n",
       "2    0.206510\n",
       "Name: Pclass, dtype: float64"
      ]
     },
     "execution_count": 13,
     "metadata": {},
     "output_type": "execute_result"
    }
   ],
   "source": [
    "train.Pclass.value_counts() / train.Pclass.value_counts().sum()"
   ]
  },
  {
   "cell_type": "markdown",
   "id": "c3ea6398-da41-47a9-8583-a1a8e68c7ef8",
   "metadata": {},
   "source": [
    "<font color='#ff590b'><font size=5> 三等仓人数最多，为55.1%，一等舱为24.2%，二等舱20.7%</font><br/>"
   ]
  },
  {
   "cell_type": "markdown",
   "id": "cec38d5d-db67-4826-bc9b-65877a4238e2",
   "metadata": {},
   "source": [
    "#### Sex"
   ]
  },
  {
   "cell_type": "code",
   "execution_count": 14,
   "id": "c0ac95df-ddd1-40e4-884a-0f4f7294fbaa",
   "metadata": {},
   "outputs": [
    {
     "data": {
      "text/plain": [
       "male      577\n",
       "female    314\n",
       "Name: Sex, dtype: int64"
      ]
     },
     "execution_count": 14,
     "metadata": {},
     "output_type": "execute_result"
    },
    {
     "data": {
      "image/png": "[encoded data removed]",
      "text/plain": [
       "<Figure size 432x288 with 1 Axes>"
      ]
     },
     "metadata": {},
     "output_type": "display_data"
    }
   ],
   "source": [
    "sns.set_theme(style=\"dark\")\n",
    "sns.countplot(x=train.Sex,data=train)\n",
    "train.Sex.value_counts()"
   ]
  },
  {
   "cell_type": "code",
   "execution_count": 15,
   "id": "6c40f828-896d-445b-936f-0f356570d62c",
   "metadata": {},
   "outputs": [
    {
     "data": {
      "text/plain": [
       "male      0.647587\n",
       "female    0.352413\n",
       "Name: Sex, dtype: float64"
      ]
     },
     "execution_count": 15,
     "metadata": {},
     "output_type": "execute_result"
    }
   ],
   "source": [
    "train.Sex.value_counts()/train.Sex.value_counts().sum()"
   ]
  },
  {
   "cell_type": "markdown",
   "id": "4f79dc96-a321-4a1b-a053-20d68b9339f5",
   "metadata": {},
   "source": [
    "<font color='#ff590b'><font size=5> 男性更多，占64.76%</font><br/>"
   ]
  },
  {
   "cell_type": "markdown",
   "id": "113aa60b-be35-4617-93af-d2bb878ae35b",
   "metadata": {},
   "source": [
    "#### Age"
   ]
  },
  {
   "cell_type": "code",
   "execution_count": 16,
   "id": "4ae6b01d-7abc-4fc0-8c03-96fba47dde09",
   "metadata": {},
   "outputs": [
    {
     "data": {
      "image/png": "[encoded data removed]",
      "text/plain": [
       "<Figure size 432x288 with 1 Axes>"
      ]
     },
     "metadata": {},
     "output_type": "display_data"
    },
    {
     "data": {
      "text/plain": [
       "74.00     1\n",
       "34.50     1\n",
       "0.42      1\n",
       "0.67      1\n",
       "66.00     1\n",
       "         ..\n",
       "28.00    25\n",
       "19.00    25\n",
       "18.00    26\n",
       "22.00    27\n",
       "24.00    30\n",
       "Name: Age, Length: 88, dtype: int64"
      ]
     },
     "execution_count": 16,
     "metadata": {},
     "output_type": "execute_result"
    }
   ],
   "source": [
    "plt.scatter(train.Age.value_counts().index,train.Age.value_counts())\n",
    "plt.show()\n",
    "train.Age.value_counts().sort_values(axis=0) "
   ]
  },
  {
   "cell_type": "markdown",
   "id": "c28db342-fe41-4b52-8c12-a108e7d4d4ad",
   "metadata": {},
   "source": [
    "<font color='#ff590b'><font size=5> 20岁-40岁的人比较多 </font><br/>"
   ]
  },
  {
   "cell_type": "markdown",
   "id": "085a196d-789a-4b34-887d-dc2f995fff16",
   "metadata": {},
   "source": [
    "#### SibSp"
   ]
  },
  {
   "cell_type": "code",
   "execution_count": 17,
   "id": "78d4dddd-fe1a-40a4-ae7a-b967747f748e",
   "metadata": {},
   "outputs": [
    {
     "data": {
      "text/plain": [
       "0    608\n",
       "1    209\n",
       "2     28\n",
       "4     18\n",
       "3     16\n",
       "8      7\n",
       "5      5\n",
       "Name: SibSp, dtype: int64"
      ]
     },
     "execution_count": 17,
     "metadata": {},
     "output_type": "execute_result"
    },
    {
     "data": {
      "image/png": "[encoded data removed]",
      "text/plain": [
       "<Figure size 432x288 with 1 Axes>"
      ]
     },
     "metadata": {},
     "output_type": "display_data"
    }
   ],
   "source": [
    "sns.set_theme(style=\"ticks\")\n",
    "sns.countplot(x=train.SibSp,data=train)\n",
    "train.SibSp.value_counts()"
   ]
  },
  {
   "cell_type": "code",
   "execution_count": 18,
   "id": "ac4bc1ff-e195-4e40-a073-8ebc0df6828c",
   "metadata": {},
   "outputs": [
    {
     "data": {
      "text/plain": [
       "0    0.682379\n",
       "1    0.234568\n",
       "2    0.031425\n",
       "4    0.020202\n",
       "3    0.017957\n",
       "8    0.007856\n",
       "5    0.005612\n",
       "Name: SibSp, dtype: float64"
      ]
     },
     "execution_count": 18,
     "metadata": {},
     "output_type": "execute_result"
    }
   ],
   "source": [
    "train.SibSp.value_counts()/train.SibSp.value_counts().sum()"
   ]
  },
  {
   "cell_type": "markdown",
   "id": "6760e56a-0ae1-466e-b618-6e1b7a031bf4",
   "metadata": {},
   "source": [
    "<font color='#ff590b'><font size=5> 68%的人没有同级亲属，23%的人有一个同级亲属，同级亲属有两个以上的很少</font><br/>"
   ]
  },
  {
   "cell_type": "markdown",
   "id": "6e52aa48-8124-47b1-986a-7166e75b631f",
   "metadata": {},
   "source": [
    "#### Parch"
   ]
  },
  {
   "cell_type": "code",
   "execution_count": 19,
   "id": "3a121941-c724-4fb2-acaf-2a79bc470edf",
   "metadata": {},
   "outputs": [
    {
     "data": {
      "text/plain": [
       "0    678\n",
       "1    118\n",
       "2     80\n",
       "5      5\n",
       "3      5\n",
       "4      4\n",
       "6      1\n",
       "Name: Parch, dtype: int64"
      ]
     },
     "execution_count": 19,
     "metadata": {},
     "output_type": "execute_result"
    },
    {
     "data": {
      "image/png": "[encoded data removed]",
      "text/plain": [
       "<Figure size 432x288 with 1 Axes>"
      ]
     },
     "metadata": {},
     "output_type": "display_data"
    }
   ],
   "source": [
    "sns.set_theme(style=\"whitegrid\")\n",
    "sns.countplot(x=train.Parch,data=train,palette=sns.color_palette(\"hls\", 6))\n",
    "train.Parch.value_counts()"
   ]
  },
  {
   "cell_type": "code",
   "execution_count": 20,
   "id": "80e0014f-f806-4ec2-8205-01a2beb7f8d1",
   "metadata": {},
   "outputs": [
    {
     "data": {
      "text/plain": [
       "0    0.760943\n",
       "1    0.132435\n",
       "2    0.089787\n",
       "5    0.005612\n",
       "3    0.005612\n",
       "4    0.004489\n",
       "6    0.001122\n",
       "Name: Parch, dtype: float64"
      ]
     },
     "execution_count": 20,
     "metadata": {},
     "output_type": "execute_result"
    }
   ],
   "source": [
    "train.Parch.value_counts()/train.Parch.value_counts().sum()"
   ]
  },
  {
   "cell_type": "markdown",
   "id": "5aa4efd9-7867-4a2c-bd02-2691040cf775",
   "metadata": {},
   "source": [
    "<font color='#ff590b'><font size=5>   76.1%的人没有非同级亲属，13%的人有一个非同级亲属   </font><br/>"
   ]
  },
  {
   "cell_type": "markdown",
   "id": "24ad48a9-9a9d-42f0-8188-2b5e9b1ddf95",
   "metadata": {},
   "source": [
    "#### Fare"
   ]
  },
  {
   "cell_type": "code",
   "execution_count": 21,
   "id": "037df2c4-2263-4f61-9987-e6c8180463a0",
   "metadata": {},
   "outputs": [
    {
     "data": {
      "image/png": "[encoded data removed]",
      "text/plain": [
       "<Figure size 432x288 with 1 Axes>"
      ]
     },
     "metadata": {},
     "output_type": "display_data"
    }
   ],
   "source": [
    "plt.scatter(train.Fare.value_counts().index,train.Fare.value_counts())\n",
    "plt.show()"
   ]
  },
  {
   "cell_type": "markdown",
   "id": "6c5337c7-2450-4a7c-9ee7-bc29ff4ceeec",
   "metadata": {},
   "source": [
    "<font color='#ff590b'><font size=5>   大部分的船票在100美元以下   </font><br/>"
   ]
  },
  {
   "cell_type": "markdown",
   "id": "40f24af1-45fa-4bcd-838b-a53b1607b5b5",
   "metadata": {},
   "source": [
    "#### Embarked"
   ]
  },
  {
   "cell_type": "code",
   "execution_count": 22,
   "id": "8c19c7cd-eff8-4034-a886-71a82d5724bb",
   "metadata": {},
   "outputs": [
    {
     "data": {
      "text/plain": [
       "S    644\n",
       "C    168\n",
       "Q     77\n",
       "Name: Embarked, dtype: int64"
      ]
     },
     "execution_count": 22,
     "metadata": {},
     "output_type": "execute_result"
    },
    {
     "data": {
      "image/png": "[encoded data removed]",
      "text/plain": [
       "<Figure size 432x288 with 1 Axes>"
      ]
     },
     "metadata": {},
     "output_type": "display_data"
    }
   ],
   "source": [
    "sns.set_theme(style=\"whitegrid\")\n",
    "sns.countplot(x=train.Embarked,data=train,palette=sns.color_palette(\"Paired\",3))\n",
    "train.Embarked.value_counts()"
   ]
  },
  {
   "cell_type": "code",
   "execution_count": 23,
   "id": "46552e42-446d-426b-b01f-bcf300f9f417",
   "metadata": {},
   "outputs": [
    {
     "data": {
      "text/plain": [
       "S    0.724409\n",
       "C    0.188976\n",
       "Q    0.086614\n",
       "Name: Embarked, dtype: float64"
      ]
     },
     "execution_count": 23,
     "metadata": {},
     "output_type": "execute_result"
    }
   ],
   "source": [
    "train.Embarked.value_counts()/train.Embarked.value_counts().sum()"
   ]
  },
  {
   "cell_type": "markdown",
   "id": "4a6a4a6c-8744-45f4-8337-c76c64210f90",
   "metadata": {},
   "source": [
    "<font color='#ff590b'><font size=5>   72%的人从S上船，18%从C上船，只有8%的人从Q上船   </font><br/>"
   ]
  },
  {
   "cell_type": "markdown",
   "id": "7cbc26d1-aac1-4a18-9605-a3ea5f4adbda",
   "metadata": {
    "tags": []
   },
   "source": [
    "## 数据可视化（数据再探）"
   ]
  },
  {
   "cell_type": "markdown",
   "id": "6c876981-7414-4b4a-9e0b-b96553bcc293",
   "metadata": {
    "jp-MarkdownHeadingCollapsed": true
   },
   "source": [
    "### 数据总体概览"
   ]
  },
  {
   "cell_type": "code",
   "execution_count": 24,
   "id": "2efad5ee-8e3c-4c0e-b03e-0e9088d085b5",
   "metadata": {
    "tags": []
   },
   "outputs": [
    {
     "data": {
      "text/plain": [
       "<seaborn.axisgrid.PairGrid at 0x127a50c8>"
      ]
     },
     "execution_count": 24,
     "metadata": {},
     "output_type": "execute_result"
    },
    {
     "data": {
      "image/png": "[encoded data removed]",
      "text/plain": [
       "<Figure size 1080x1080 with 42 Axes>"
      ]
     },
     "metadata": {},
     "output_type": "display_data"
    }
   ],
   "source": [
    "sns.pairplot(train.drop('PassengerId',axis=1))"
   ]
  },
  {
   "cell_type": "markdown",
   "id": "c38e63b6-817e-4b49-86ac-bd29683d74f9",
   "metadata": {
    "jp-MarkdownHeadingCollapsed": true,
    "tags": []
   },
   "source": [
    "### 二维数据"
   ]
  },
  {
   "cell_type": "markdown",
   "id": "1477e301-8fa8-4934-87c2-1d28447294ad",
   "metadata": {},
   "source": [
    "#### Fare与Pclass"
   ]
  },
  {
   "cell_type": "code",
   "execution_count": 25,
   "id": "1d6fdf67-960d-475e-936d-8b7c94fc0fe0",
   "metadata": {},
   "outputs": [
    {
     "data": {
      "text/plain": [
       "-0.5494996199439078"
      ]
     },
     "execution_count": 25,
     "metadata": {},
     "output_type": "execute_result"
    },
    {
     "data": {
      "image/png": "[encoded data removed]",
      "text/plain": [
       "<Figure size 432x288 with 1 Axes>"
      ]
     },
     "metadata": {},
     "output_type": "display_data"
    }
   ],
   "source": [
    "plt.scatter(train.Pclass,train.Fare)\n",
    "train['Fare'].corr(train['Pclass'])"
   ]
  },
  {
   "cell_type": "markdown",
   "id": "05d72e20-6896-4a72-bea9-cccb66e38695",
   "metadata": {},
   "source": [
    "<font color='#ff590b'><font size=5> 费用与船舱等级具有较高的相关性，费用越多，船舱等级可能越高</font><br/>"
   ]
  },
  {
   "cell_type": "markdown",
   "id": "1ba55688-eab9-4012-b41e-cf56a1a2ebbb",
   "metadata": {},
   "source": [
    "#### Sex与Pclass"
   ]
  },
  {
   "cell_type": "code",
   "execution_count": 26,
   "id": "204042fc-48d9-4455-8ce3-a1c92a19bd4d",
   "metadata": {},
   "outputs": [
    {
     "data": {
      "text/plain": [
       "<AxesSubplot:xlabel='Pclass', ylabel='count'>"
      ]
     },
     "execution_count": 26,
     "metadata": {},
     "output_type": "execute_result"
    },
    {
     "data": {
      "image/png": "[encoded data removed]",
      "text/plain": [
       "<Figure size 432x288 with 1 Axes>"
      ]
     },
     "metadata": {},
     "output_type": "display_data"
    }
   ],
   "source": [
    "sns.countplot(x=train.Pclass, hue=train.Sex, data=train)"
   ]
  },
  {
   "cell_type": "markdown",
   "id": "13d9845c-313f-4ade-8780-66fbd0239447",
   "metadata": {},
   "source": [
    "<font color='#ff590b'><font size=5> 各个船舱，男性均多余女性</font><br/>"
   ]
  },
  {
   "cell_type": "markdown",
   "id": "d56c78e2-5feb-491d-a2f6-419b62708763",
   "metadata": {},
   "source": [
    "#### Pclass与Survived"
   ]
  },
  {
   "cell_type": "code",
   "execution_count": 27,
   "id": "3d39ad8f-ba3a-42bb-b9e7-400534e3bc99",
   "metadata": {},
   "outputs": [
    {
     "data": {
      "text/html": [
       "<div>\n",
       "<style scoped>\n",
       "    .dataframe tbody tr th:only-of-type {\n",
       "        vertical-align: middle;\n",
       "    }\n",
       "\n",
       "    .dataframe tbody tr th {\n",
       "        vertical-align: top;\n",
       "    }\n",
       "\n",
       "    .dataframe thead th {\n",
       "        text-align: right;\n",
       "    }\n",
       "</style>\n",
       "<table border=\"1\" class=\"dataframe\">\n",
       "  <thead>\n",
       "    <tr style=\"text-align: right;\">\n",
       "      <th></th>\n",
       "      <th>Pclass</th>\n",
       "      <th>Survived</th>\n",
       "    </tr>\n",
       "  </thead>\n",
       "  <tbody>\n",
       "    <tr>\n",
       "      <th>0</th>\n",
       "      <td>1</td>\n",
       "      <td>0.629630</td>\n",
       "    </tr>\n",
       "    <tr>\n",
       "      <th>1</th>\n",
       "      <td>2</td>\n",
       "      <td>0.472826</td>\n",
       "    </tr>\n",
       "    <tr>\n",
       "      <th>2</th>\n",
       "      <td>3</td>\n",
       "      <td>0.242363</td>\n",
       "    </tr>\n",
       "  </tbody>\n",
       "</table>\n",
       "</div>"
      ],
      "text/plain": [
       "   Pclass  Survived\n",
       "0       1  0.629630\n",
       "1       2  0.472826\n",
       "2       3  0.242363"
      ]
     },
     "execution_count": 27,
     "metadata": {},
     "output_type": "execute_result"
    }
   ],
   "source": [
    "train[['Pclass', 'Survived']].groupby(['Pclass'], as_index=False).mean().sort_values(by='Survived', ascending=False)"
   ]
  },
  {
   "cell_type": "code",
   "execution_count": 28,
   "id": "11f5a57c-a851-4028-8241-9358aaa17639",
   "metadata": {},
   "outputs": [
    {
     "data": {
      "text/plain": [
       "-0.33848103596101536"
      ]
     },
     "execution_count": 28,
     "metadata": {},
     "output_type": "execute_result"
    },
    {
     "data": {
      "image/png": "[encoded data removed]",
      "text/plain": [
       "<Figure size 432x288 with 1 Axes>"
      ]
     },
     "metadata": {},
     "output_type": "display_data"
    }
   ],
   "source": [
    "sns.countplot(x=train.Survived, hue=train.Pclass, data=train)\n",
    "train['Survived'].corr(train['Pclass'])"
   ]
  },
  {
   "cell_type": "markdown",
   "id": "0f864f41-9d24-452e-9ef3-11a2265f569e",
   "metadata": {},
   "source": [
    "<font color='#ff590b'><font size=5> 一等舱的幸存率最高，三等舱幸存率最低，幸存率与船舱有重要关系</font><br/>"
   ]
  },
  {
   "cell_type": "markdown",
   "id": "c2357a23-72a7-49f1-84a0-867a4c2e13d3",
   "metadata": {},
   "source": [
    "#### Sex与Survived"
   ]
  },
  {
   "cell_type": "code",
   "execution_count": 29,
   "id": "5901cfb9-8fee-443b-88a2-faefc6041543",
   "metadata": {},
   "outputs": [
    {
     "data": {
      "text/html": [
       "<div>\n",
       "<style scoped>\n",
       "    .dataframe tbody tr th:only-of-type {\n",
       "        vertical-align: middle;\n",
       "    }\n",
       "\n",
       "    .dataframe tbody tr th {\n",
       "        vertical-align: top;\n",
       "    }\n",
       "\n",
       "    .dataframe thead th {\n",
       "        text-align: right;\n",
       "    }\n",
       "</style>\n",
       "<table border=\"1\" class=\"dataframe\">\n",
       "  <thead>\n",
       "    <tr style=\"text-align: right;\">\n",
       "      <th></th>\n",
       "      <th>Sex</th>\n",
       "      <th>Survived</th>\n",
       "    </tr>\n",
       "  </thead>\n",
       "  <tbody>\n",
       "    <tr>\n",
       "      <th>0</th>\n",
       "      <td>female</td>\n",
       "      <td>0.742038</td>\n",
       "    </tr>\n",
       "    <tr>\n",
       "      <th>1</th>\n",
       "      <td>male</td>\n",
       "      <td>0.188908</td>\n",
       "    </tr>\n",
       "  </tbody>\n",
       "</table>\n",
       "</div>"
      ],
      "text/plain": [
       "      Sex  Survived\n",
       "0  female  0.742038\n",
       "1    male  0.188908"
      ]
     },
     "execution_count": 29,
     "metadata": {},
     "output_type": "execute_result"
    }
   ],
   "source": [
    "train[[\"Sex\", \"Survived\"]].groupby(['Sex'], as_index=False).mean().sort_values(by='Survived', ascending=False)"
   ]
  },
  {
   "cell_type": "code",
   "execution_count": 30,
   "id": "3e79749d-5331-4949-9dd9-a45346add8e7",
   "metadata": {},
   "outputs": [
    {
     "data": {
      "text/plain": [
       "<AxesSubplot:xlabel='Survived', ylabel='count'>"
      ]
     },
     "execution_count": 30,
     "metadata": {},
     "output_type": "execute_result"
    },
    {
     "data": {
      "image/png": "[encoded data removed]",
      "text/plain": [
       "<Figure size 432x288 with 1 Axes>"
      ]
     },
     "metadata": {},
     "output_type": "display_data"
    }
   ],
   "source": [
    "sns.countplot(x=train.Survived, hue=train.Sex, data=train)"
   ]
  },
  {
   "cell_type": "markdown",
   "id": "ed663ce8-bfde-4a4d-b79e-265e28cd5bc2",
   "metadata": {},
   "source": [
    "<font color='#ff590b'><font size=5> 女性的生存率远高于男性，可以推断发生灾难时，许多男性把生存机会留给了女性</font><br/>"
   ]
  },
  {
   "cell_type": "markdown",
   "id": "6184b7ad-f123-421f-a9f8-687762fcfec8",
   "metadata": {},
   "source": [
    "#### Age与Survived"
   ]
  },
  {
   "cell_type": "code",
   "execution_count": 31,
   "id": "89fd36f0-e2ff-48d5-a0fb-a218a335ee6a",
   "metadata": {},
   "outputs": [
    {
     "data": {
      "text/plain": [
       "<seaborn.axisgrid.FacetGrid at 0x146949c8>"
      ]
     },
     "execution_count": 31,
     "metadata": {},
     "output_type": "execute_result"
    },
    {
     "data": {
      "image/png": "[encoded data removed]",
      "text/plain": [
       "<Figure size 432x216 with 2 Axes>"
      ]
     },
     "metadata": {},
     "output_type": "display_data"
    }
   ],
   "source": [
    "g = sns.FacetGrid(train, col='Survived')\n",
    "g.map(plt.hist, 'Age', bins=20)"
   ]
  },
  {
   "cell_type": "markdown",
   "id": "f5443ce5-c070-4d46-ba62-fa4e728eb700",
   "metadata": {},
   "source": [
    "<font color='#ff590b'><font size=5> 孩子和老人的生存率明显高于死亡率，而成年的死亡率明显高于生存率，可以推断发生灾难时，许多成年把生存机会留给了孩子和老人</font><br/>"
   ]
  },
  {
   "cell_type": "markdown",
   "id": "de376528-4cd0-48ba-841c-3f07ab5255dc",
   "metadata": {
    "tags": []
   },
   "source": [
    "#### SibSp与Survived"
   ]
  },
  {
   "cell_type": "code",
   "execution_count": 32,
   "id": "d3795de1-876a-4654-ae29-87a192b630ae",
   "metadata": {},
   "outputs": [
    {
     "data": {
      "text/html": [
       "<div>\n",
       "<style scoped>\n",
       "    .dataframe tbody tr th:only-of-type {\n",
       "        vertical-align: middle;\n",
       "    }\n",
       "\n",
       "    .dataframe tbody tr th {\n",
       "        vertical-align: top;\n",
       "    }\n",
       "\n",
       "    .dataframe thead th {\n",
       "        text-align: right;\n",
       "    }\n",
       "</style>\n",
       "<table border=\"1\" class=\"dataframe\">\n",
       "  <thead>\n",
       "    <tr style=\"text-align: right;\">\n",
       "      <th></th>\n",
       "      <th>SibSp</th>\n",
       "      <th>Survived</th>\n",
       "    </tr>\n",
       "  </thead>\n",
       "  <tbody>\n",
       "    <tr>\n",
       "      <th>1</th>\n",
       "      <td>1</td>\n",
       "      <td>0.535885</td>\n",
       "    </tr>\n",
       "    <tr>\n",
       "      <th>2</th>\n",
       "      <td>2</td>\n",
       "      <td>0.464286</td>\n",
       "    </tr>\n",
       "    <tr>\n",
       "      <th>0</th>\n",
       "      <td>0</td>\n",
       "      <td>0.345395</td>\n",
       "    </tr>\n",
       "    <tr>\n",
       "      <th>3</th>\n",
       "      <td>3</td>\n",
       "      <td>0.250000</td>\n",
       "    </tr>\n",
       "    <tr>\n",
       "      <th>4</th>\n",
       "      <td>4</td>\n",
       "      <td>0.166667</td>\n",
       "    </tr>\n",
       "    <tr>\n",
       "      <th>5</th>\n",
       "      <td>5</td>\n",
       "      <td>0.000000</td>\n",
       "    </tr>\n",
       "    <tr>\n",
       "      <th>6</th>\n",
       "      <td>8</td>\n",
       "      <td>0.000000</td>\n",
       "    </tr>\n",
       "  </tbody>\n",
       "</table>\n",
       "</div>"
      ],
      "text/plain": [
       "   SibSp  Survived\n",
       "1      1  0.535885\n",
       "2      2  0.464286\n",
       "0      0  0.345395\n",
       "3      3  0.250000\n",
       "4      4  0.166667\n",
       "5      5  0.000000\n",
       "6      8  0.000000"
      ]
     },
     "execution_count": 32,
     "metadata": {},
     "output_type": "execute_result"
    }
   ],
   "source": [
    "train[[\"SibSp\", \"Survived\"]].groupby(['SibSp'], as_index=False).mean().sort_values(by='Survived', ascending=False)"
   ]
  },
  {
   "cell_type": "code",
   "execution_count": 33,
   "id": "afc0745c-b639-4a92-ba86-0495d06daab5",
   "metadata": {},
   "outputs": [
    {
     "data": {
      "text/plain": [
       "-0.03532249888573559"
      ]
     },
     "execution_count": 33,
     "metadata": {},
     "output_type": "execute_result"
    },
    {
     "data": {
      "image/png": "[encoded data removed]",
      "text/plain": [
       "<Figure size 432x288 with 1 Axes>"
      ]
     },
     "metadata": {},
     "output_type": "display_data"
    }
   ],
   "source": [
    "sns.countplot(x=train.Survived, hue=train.SibSp, data=train)\n",
    "train['Survived'].corr(train['SibSp'])"
   ]
  },
  {
   "cell_type": "markdown",
   "id": "c702590d-059b-427a-b47d-291a68baa0ab",
   "metadata": {},
   "source": [
    "<font color='#ff590b'><font size=5> 相关性较弱</font><br/>"
   ]
  },
  {
   "cell_type": "markdown",
   "id": "7885310f-13f0-49ca-8dc7-7ed3a5cc699f",
   "metadata": {
    "tags": []
   },
   "source": [
    "#### Parch与Survived"
   ]
  },
  {
   "cell_type": "code",
   "execution_count": 34,
   "id": "cb67ad7d-9f37-4548-b480-c74593baa6fd",
   "metadata": {},
   "outputs": [
    {
     "data": {
      "text/html": [
       "<div>\n",
       "<style scoped>\n",
       "    .dataframe tbody tr th:only-of-type {\n",
       "        vertical-align: middle;\n",
       "    }\n",
       "\n",
       "    .dataframe tbody tr th {\n",
       "        vertical-align: top;\n",
       "    }\n",
       "\n",
       "    .dataframe thead th {\n",
       "        text-align: right;\n",
       "    }\n",
       "</style>\n",
       "<table border=\"1\" class=\"dataframe\">\n",
       "  <thead>\n",
       "    <tr style=\"text-align: right;\">\n",
       "      <th></th>\n",
       "      <th>Parch</th>\n",
       "      <th>Survived</th>\n",
       "    </tr>\n",
       "  </thead>\n",
       "  <tbody>\n",
       "    <tr>\n",
       "      <th>3</th>\n",
       "      <td>3</td>\n",
       "      <td>0.600000</td>\n",
       "    </tr>\n",
       "    <tr>\n",
       "      <th>1</th>\n",
       "      <td>1</td>\n",
       "      <td>0.550847</td>\n",
       "    </tr>\n",
       "    <tr>\n",
       "      <th>2</th>\n",
       "      <td>2</td>\n",
       "      <td>0.500000</td>\n",
       "    </tr>\n",
       "    <tr>\n",
       "      <th>0</th>\n",
       "      <td>0</td>\n",
       "      <td>0.343658</td>\n",
       "    </tr>\n",
       "    <tr>\n",
       "      <th>5</th>\n",
       "      <td>5</td>\n",
       "      <td>0.200000</td>\n",
       "    </tr>\n",
       "    <tr>\n",
       "      <th>4</th>\n",
       "      <td>4</td>\n",
       "      <td>0.000000</td>\n",
       "    </tr>\n",
       "    <tr>\n",
       "      <th>6</th>\n",
       "      <td>6</td>\n",
       "      <td>0.000000</td>\n",
       "    </tr>\n",
       "  </tbody>\n",
       "</table>\n",
       "</div>"
      ],
      "text/plain": [
       "   Parch  Survived\n",
       "3      3  0.600000\n",
       "1      1  0.550847\n",
       "2      2  0.500000\n",
       "0      0  0.343658\n",
       "5      5  0.200000\n",
       "4      4  0.000000\n",
       "6      6  0.000000"
      ]
     },
     "execution_count": 34,
     "metadata": {},
     "output_type": "execute_result"
    }
   ],
   "source": [
    "train[[\"Parch\", \"Survived\"]].groupby(['Parch'], as_index=False).mean().sort_values(by='Survived', ascending=False)"
   ]
  },
  {
   "cell_type": "code",
   "execution_count": 35,
   "id": "dd0f766b-ace7-4318-bbb9-75d26a4b71f7",
   "metadata": {},
   "outputs": [
    {
     "data": {
      "text/plain": [
       "0.08162940708348349"
      ]
     },
     "execution_count": 35,
     "metadata": {},
     "output_type": "execute_result"
    },
    {
     "data": {
      "image/png": "[encoded data removed]",
      "text/plain": [
       "<Figure size 432x288 with 1 Axes>"
      ]
     },
     "metadata": {},
     "output_type": "display_data"
    }
   ],
   "source": [
    "sns.countplot(x=train.Survived, hue=train.Parch, data=train)\n",
    "train['Survived'].corr(train['Parch'])"
   ]
  },
  {
   "cell_type": "markdown",
   "id": "8208b122-d589-41bf-8462-46aa5be1d690",
   "metadata": {},
   "source": [
    "<font color='#ff590b'><font size=5> 相关性较弱</font><br/>"
   ]
  },
  {
   "cell_type": "markdown",
   "id": "294f6bc3-b0b0-47e4-a607-29e463defe18",
   "metadata": {},
   "source": [
    "#### Fare与Survived"
   ]
  },
  {
   "cell_type": "code",
   "execution_count": 36,
   "id": "c734519b-9b40-444e-b5c8-fab062b3a9ee",
   "metadata": {},
   "outputs": [
    {
     "data": {
      "text/plain": [
       "0.2573065223849624"
      ]
     },
     "execution_count": 36,
     "metadata": {},
     "output_type": "execute_result"
    },
    {
     "data": {
      "image/png": "[encoded data removed]",
      "text/plain": [
       "<Figure size 432x288 with 1 Axes>"
      ]
     },
     "metadata": {},
     "output_type": "display_data"
    }
   ],
   "source": [
    "plt.scatter(train.Survived,train.Fare)\n",
    "train['Survived'].corr(train['Fare'])"
   ]
  },
  {
   "cell_type": "code",
   "execution_count": 37,
   "id": "d20c2aae-46b6-43dc-bd18-b67d27b06631",
   "metadata": {},
   "outputs": [
    {
     "data": {
      "text/plain": [
       "Survived\n",
       "0    22.117887\n",
       "1    48.395408\n",
       "Name: Fare, dtype: float64"
      ]
     },
     "execution_count": 37,
     "metadata": {},
     "output_type": "execute_result"
    }
   ],
   "source": [
    "train.groupby('Survived')['Fare'].mean()"
   ]
  },
  {
   "cell_type": "markdown",
   "id": "8def8aae-ebf2-4b93-9f5a-8886ef3608a1",
   "metadata": {},
   "source": [
    "<font color='#ff590b'><font size=5>船费更高的倾向于更高的的生存率</font><br/>"
   ]
  },
  {
   "cell_type": "markdown",
   "id": "eb0e54d1-7405-4633-a0ba-d67c535da4be",
   "metadata": {
    "tags": []
   },
   "source": [
    "#### Embarked与Survived"
   ]
  },
  {
   "cell_type": "code",
   "execution_count": 38,
   "id": "97fac79d-43ae-42d7-9770-f71f6a63d029",
   "metadata": {},
   "outputs": [
    {
     "data": {
      "text/plain": [
       "<AxesSubplot:xlabel='Survived', ylabel='count'>"
      ]
     },
     "execution_count": 38,
     "metadata": {},
     "output_type": "execute_result"
    },
    {
     "data": {
      "image/png": "[encoded data removed]",
      "text/plain": [
       "<Figure size 432x288 with 1 Axes>"
      ]
     },
     "metadata": {},
     "output_type": "display_data"
    }
   ],
   "source": [
    "sns.countplot(x=train.Survived, hue=train.Embarked, data=train)"
   ]
  },
  {
   "cell_type": "markdown",
   "id": "40f7d636-18f0-4128-be3c-90fd8470076c",
   "metadata": {},
   "source": [
    "<font color='#ff590b'><font size=5> 相关性较弱</font><br/>"
   ]
  },
  {
   "cell_type": "markdown",
   "id": "9ee8b16d-c6f2-4656-9c7f-8cd6c7e0cea8",
   "metadata": {
    "jp-MarkdownHeadingCollapsed": true,
    "tags": []
   },
   "source": [
    "### 三维数据"
   ]
  },
  {
   "cell_type": "markdown",
   "id": "8c41ecf8-aed9-4da0-af03-caf389d560ad",
   "metadata": {},
   "source": [
    "#### Sex与Survived,Pclass"
   ]
  },
  {
   "cell_type": "code",
   "execution_count": 39,
   "id": "efc2538d-1202-497a-abb3-18a7f6945a01",
   "metadata": {
    "tags": []
   },
   "outputs": [
    {
     "data": {
      "text/plain": [
       "<seaborn.axisgrid.FacetGrid at 0x14d5cd48>"
      ]
     },
     "execution_count": 39,
     "metadata": {},
     "output_type": "execute_result"
    },
    {
     "data": {
      "image/png": "[encoded data removed]",
      "text/plain": [
       "<Figure size 792.85x360 with 2 Axes>"
      ]
     },
     "metadata": {},
     "output_type": "display_data"
    }
   ],
   "source": [
    "sns.catplot(x=\"Pclass\", \n",
    "            hue=\"Sex\", \n",
    "            col=\"Survived\",\n",
    "            data=train, \n",
    "            kind=\"count\")"
   ]
  },
  {
   "cell_type": "markdown",
   "id": "f87b0bc9-2a1a-4f0e-9e22-4ba2b6d8fd33",
   "metadata": {},
   "source": [
    "<font color='#ff590b'><font size=5> 各个等级船舱，女性生存率高于男性;高等级船舱生存率更高</font><br/>"
   ]
  },
  {
   "cell_type": "markdown",
   "id": "ebda8ba6-f369-4a00-8e67-799a4a62324a",
   "metadata": {},
   "source": [
    "#### Age与Survived,Pclass"
   ]
  },
  {
   "cell_type": "code",
   "execution_count": 40,
   "id": "b719dfb1-4c93-41f3-858c-f371039c1b15",
   "metadata": {},
   "outputs": [
    {
     "data": {
      "image/png": "[encoded data removed]",
      "text/plain": [
       "<Figure size 515.68x475.2 with 6 Axes>"
      ]
     },
     "metadata": {},
     "output_type": "display_data"
    }
   ],
   "source": [
    "grid = sns.FacetGrid(train, col='Survived', row='Pclass', height=2.2, aspect=1.6)\n",
    "grid.map(plt.hist, 'Age', alpha=.5, bins=20)\n",
    "grid.add_legend();"
   ]
  },
  {
   "cell_type": "markdown",
   "id": "f718d827-b19c-4299-baca-fa3aa71e6458",
   "metadata": {},
   "source": [
    "<font color='#ff590b'><font size=5> 船舱一，死亡数较少；船舱二，死亡数中等；船舱三，孩子死亡少，成年死亡多</font><br/>"
   ]
  },
  {
   "cell_type": "markdown",
   "id": "e6f2bd7b-8480-4808-a03f-b39b61a7c21d",
   "metadata": {},
   "source": [
    "#### SibSp与Survived,Pclass"
   ]
  },
  {
   "cell_type": "code",
   "execution_count": 41,
   "id": "8c89deeb-dab8-4462-9ef4-5b51d86417d6",
   "metadata": {},
   "outputs": [
    {
     "data": {
      "text/plain": [
       "<seaborn.axisgrid.FacetGrid at 0x150fdbc8>"
      ]
     },
     "execution_count": 41,
     "metadata": {},
     "output_type": "execute_result"
    },
    {
     "data": {
      "image/png": "[encoded data removed]",
      "text/plain": [
       "<Figure size 765.725x360 with 2 Axes>"
      ]
     },
     "metadata": {},
     "output_type": "display_data"
    }
   ],
   "source": [
    "sns.catplot(x=\"Pclass\", \n",
    "            hue=\"SibSp\", \n",
    "            col=\"Survived\",\n",
    "            data=train, \n",
    "            kind=\"count\")"
   ]
  },
  {
   "cell_type": "markdown",
   "id": "bc009e75-eff8-4922-9ecc-a11969d75bf5",
   "metadata": {},
   "source": [
    "<font color='#ff590b'><font size=5> 相关性较弱</font><br/>"
   ]
  },
  {
   "cell_type": "markdown",
   "id": "7d5f2692-a62e-48f3-b0a4-e63b6469aba5",
   "metadata": {},
   "source": [
    "#### Parch与Survived,Pclass"
   ]
  },
  {
   "cell_type": "code",
   "execution_count": 42,
   "id": "e9ec6783-c16a-43f7-b9b3-67ff05b91ddc",
   "metadata": {},
   "outputs": [
    {
     "data": {
      "text/plain": [
       "<seaborn.axisgrid.FacetGrid at 0x161d8d08>"
      ]
     },
     "execution_count": 42,
     "metadata": {},
     "output_type": "execute_result"
    },
    {
     "data": {
      "image/png": "[encoded data removed]",
      "text/plain": [
       "<Figure size 765.725x360 with 2 Axes>"
      ]
     },
     "metadata": {},
     "output_type": "display_data"
    }
   ],
   "source": [
    "sns.catplot(x=\"Pclass\", \n",
    "            hue=\"Parch\", \n",
    "            col=\"Survived\",\n",
    "            data=train, \n",
    "            kind=\"count\")"
   ]
  },
  {
   "cell_type": "markdown",
   "id": "2d9d65bc-8ce5-4d2f-800f-d49453f67590",
   "metadata": {},
   "source": [
    "<font color='#ff590b'><font size=5> 相关性较弱</font><br/>"
   ]
  },
  {
   "cell_type": "markdown",
   "id": "3cb5159f-aad2-4868-97f8-4c8256871960",
   "metadata": {},
   "source": [
    "#### Embarked与Survived,Pclass"
   ]
  },
  {
   "cell_type": "code",
   "execution_count": 43,
   "id": "fd03a385-f9a7-49a6-b042-cb8cfe3749dd",
   "metadata": {},
   "outputs": [
    {
     "data": {
      "text/plain": [
       "<seaborn.axisgrid.FacetGrid at 0x1632ac88>"
      ]
     },
     "execution_count": 43,
     "metadata": {},
     "output_type": "execute_result"
    },
    {
     "data": {
      "image/png": "[encoded data removed]",
      "text/plain": [
       "<Figure size 783.425x360 with 2 Axes>"
      ]
     },
     "metadata": {},
     "output_type": "display_data"
    }
   ],
   "source": [
    "sns.catplot(x=\"Pclass\", \n",
    "            hue=\"Embarked\", \n",
    "            col=\"Survived\",\n",
    "            data=train, \n",
    "            kind=\"count\")"
   ]
  },
  {
   "cell_type": "markdown",
   "id": "81f7eaf9-fd5e-47ff-92c0-f5b1170fbe28",
   "metadata": {},
   "source": [
    "<font color='#ff590b'><font size=5> 相关性较弱</font><br/>"
   ]
  },
  {
   "cell_type": "markdown",
   "id": "02cf1b36-a564-4b32-a504-d13a796b5663",
   "metadata": {
    "jp-MarkdownHeadingCollapsed": true,
    "tags": []
   },
   "source": [
    "### 四维数据"
   ]
  },
  {
   "cell_type": "markdown",
   "id": "774b1998-8177-479b-9a0c-f956368ea8e7",
   "metadata": {},
   "source": [
    "#### Embarked,Sex,Pclass与Survived"
   ]
  },
  {
   "cell_type": "code",
   "execution_count": 44,
   "id": "776a51e2-9536-4cd7-8ccb-c9b55a28f3f4",
   "metadata": {},
   "outputs": [
    {
     "data": {
      "text/plain": [
       "<seaborn.axisgrid.FacetGrid at 0x165af808>"
      ]
     },
     "execution_count": 44,
     "metadata": {},
     "output_type": "execute_result"
    },
    {
     "data": {
      "image/png": "[encoded data removed]",
      "text/plain": [
       "<Figure size 326.29x475.2 with 3 Axes>"
      ]
     },
     "metadata": {},
     "output_type": "display_data"
    }
   ],
   "source": [
    "grid = sns.FacetGrid(train, row='Embarked', height=2.2, aspect=1.6)\n",
    "grid.map(sns.pointplot, 'Pclass', 'Survived', 'Sex', palette='deep')\n",
    "grid.add_legend()"
   ]
  },
  {
   "cell_type": "markdown",
   "id": "decac84d-6cc5-4502-b7e2-9a17c7bd51a8",
   "metadata": {},
   "source": [
    "<font color='#ff590b'><font size=5> S和Q上岸的人，女性生存率高于男性；一等舱，二等舱的生存率比三等舱高<font color='#ff590b'><font size=5> 相关性较弱</font><br/></font><br/>"
   ]
  },
  {
   "cell_type": "markdown",
   "id": "cc466bfc-8fae-4743-8d56-716b33e80148",
   "metadata": {},
   "source": [
    "#### Fare,Sex,Embarked与Survived"
   ]
  },
  {
   "cell_type": "code",
   "execution_count": 45,
   "id": "08a1792e-1035-46a6-8ec1-29a26ecff590",
   "metadata": {},
   "outputs": [
    {
     "data": {
      "text/plain": [
       "<seaborn.axisgrid.FacetGrid at 0x16931cc8>"
      ]
     },
     "execution_count": 45,
     "metadata": {},
     "output_type": "execute_result"
    },
    {
     "data": {
      "image/png": "[encoded data removed]",
      "text/plain": [
       "<Figure size 515.68x475.2 with 6 Axes>"
      ]
     },
     "metadata": {},
     "output_type": "display_data"
    }
   ],
   "source": [
    "grid = sns.FacetGrid(train, row='Embarked', col='Survived', size=2.2, aspect=1.6)\n",
    "grid.map(sns.barplot, 'Sex', 'Fare', alpha=.5, ci=None)\n",
    "grid.add_legend()"
   ]
  },
  {
   "cell_type": "markdown",
   "id": "84dacd95-4ddf-4c82-a2ca-0d4b0166d247",
   "metadata": {},
   "source": [
    "<font color='#ff590b'><font size=5> 幸存的人倾向于更高的船费；Q上岸的人倾向于更高的船费；男性倾向于更高的船费</font><br/>"
   ]
  },
  {
   "cell_type": "markdown",
   "id": "0209ccdf-32a7-4163-9909-0214f6ff2032",
   "metadata": {},
   "source": [
    "## 特征工程"
   ]
  },
  {
   "cell_type": "markdown",
   "id": "fb562dc4-8938-47db-a975-027d2e444a87",
   "metadata": {
    "jp-MarkdownHeadingCollapsed": true,
    "tags": []
   },
   "source": [
    "### 数据预处理"
   ]
  },
  {
   "cell_type": "markdown",
   "id": "908ed05f-61ec-4e57-8a65-99439b7d0979",
   "metadata": {},
   "source": [
    "#### 剔除ticket,PassengerId,cabin"
   ]
  },
  {
   "cell_type": "markdown",
   "id": "bef28997-1232-4b40-8294-d2ce9376e0ab",
   "metadata": {},
   "source": [
    "<font color='#ff590b'><font size=5> ticket,PassengerId信息无用，cabin缺失值过多，将二者剔除 </font><br/>"
   ]
  },
  {
   "cell_type": "code",
   "execution_count": 46,
   "id": "df92c0dc-b7e5-4541-bf4f-9b46aa176257",
   "metadata": {},
   "outputs": [
    {
     "data": {
      "text/plain": [
       "((891, 12), (418, 11))"
      ]
     },
     "execution_count": 46,
     "metadata": {},
     "output_type": "execute_result"
    }
   ],
   "source": [
    "(train.shape,test.shape)"
   ]
  },
  {
   "cell_type": "code",
   "execution_count": 47,
   "id": "6160b906-e651-463f-9a4c-e9666971af22",
   "metadata": {},
   "outputs": [],
   "source": [
    "train = train.drop(['Ticket', 'Cabin','PassengerId'], axis=1)\n",
    "test = test.drop(['Ticket', 'Cabin','PassengerId'], axis=1)           #剔除数据"
   ]
  },
  {
   "cell_type": "code",
   "execution_count": 48,
   "id": "36f90512-8cb4-477d-a0c8-48f4b71a4809",
   "metadata": {},
   "outputs": [
    {
     "data": {
      "text/plain": [
       "((891, 9), (418, 8))"
      ]
     },
     "execution_count": 48,
     "metadata": {},
     "output_type": "execute_result"
    }
   ],
   "source": [
    "(train.shape,test.shape)"
   ]
  },
  {
   "cell_type": "markdown",
   "id": "84d7247e-c0fc-4ad2-8df9-e8f481f61cec",
   "metadata": {
    "tags": []
   },
   "source": [
    "#### Sex装换为值"
   ]
  },
  {
   "cell_type": "code",
   "execution_count": 49,
   "id": "ff8369c9-5f2c-4398-b87c-d2f88b5153e3",
   "metadata": {},
   "outputs": [],
   "source": [
    "for i in range(train.shape[0]):\n",
    "    if train['Sex'][i]=='male':\n",
    "        train['Sex'][i]=0.5\n",
    "    elif train['Sex'][i]=='female':\n",
    "        train['Sex'][i]=-0.5\n",
    "        \n",
    "for i in range(test.shape[0]):\n",
    "    if test['Sex'][i]=='male':\n",
    "        test['Sex'][i]=0.5\n",
    "    elif test['Sex'][i]=='female':\n",
    "        test['Sex'][i]=-0.5\n",
    "        \n",
    "train['Sex']=train['Sex'].astype(float)\n",
    "test['Sex']=test['Sex'].astype(float)"
   ]
  },
  {
   "cell_type": "code",
   "execution_count": 50,
   "id": "37bb2037-b8ea-4c9a-a315-539283b3ec25",
   "metadata": {},
   "outputs": [
    {
     "data": {
      "text/plain": [
       "0      0.5\n",
       "1     -0.5\n",
       "2     -0.5\n",
       "3     -0.5\n",
       "4      0.5\n",
       "      ... \n",
       "886    0.5\n",
       "887   -0.5\n",
       "888   -0.5\n",
       "889    0.5\n",
       "890    0.5\n",
       "Name: Sex, Length: 891, dtype: float64"
      ]
     },
     "execution_count": 50,
     "metadata": {},
     "output_type": "execute_result"
    }
   ],
   "source": [
    "train['Sex']"
   ]
  },
  {
   "cell_type": "markdown",
   "id": "0a13b6c6-96ed-43a6-a33e-7d564a864ae5",
   "metadata": {},
   "source": [
    "#### Embarked缺失值填充并装换为值"
   ]
  },
  {
   "cell_type": "markdown",
   "id": "974b6a62-0c1e-4313-a237-5144b835b652",
   "metadata": {},
   "source": [
    "<font color='#ff590b'><font size=5> 考虑到Embarked只缺失了两个数据，考虑人工填充相邻值</font><br/>"
   ]
  },
  {
   "cell_type": "code",
   "execution_count": 51,
   "id": "0b959798-acfc-437c-8abd-1abfcde5e3c1",
   "metadata": {},
   "outputs": [
    {
     "data": {
      "text/html": [
       "<div>\n",
       "<style scoped>\n",
       "    .dataframe tbody tr th:only-of-type {\n",
       "        vertical-align: middle;\n",
       "    }\n",
       "\n",
       "    .dataframe tbody tr th {\n",
       "        vertical-align: top;\n",
       "    }\n",
       "\n",
       "    .dataframe thead th {\n",
       "        text-align: right;\n",
       "    }\n",
       "</style>\n",
       "<table border=\"1\" class=\"dataframe\">\n",
       "  <thead>\n",
       "    <tr style=\"text-align: right;\">\n",
       "      <th></th>\n",
       "      <th>Survived</th>\n",
       "      <th>Pclass</th>\n",
       "      <th>Name</th>\n",
       "      <th>Sex</th>\n",
       "      <th>Age</th>\n",
       "      <th>SibSp</th>\n",
       "      <th>Parch</th>\n",
       "      <th>Fare</th>\n",
       "      <th>Embarked</th>\n",
       "    </tr>\n",
       "  </thead>\n",
       "  <tbody>\n",
       "    <tr>\n",
       "      <th>61</th>\n",
       "      <td>1</td>\n",
       "      <td>1</td>\n",
       "      <td>Icard, Miss. Amelie</td>\n",
       "      <td>-0.5</td>\n",
       "      <td>38.0</td>\n",
       "      <td>0</td>\n",
       "      <td>0</td>\n",
       "      <td>80.0</td>\n",
       "      <td>NaN</td>\n",
       "    </tr>\n",
       "    <tr>\n",
       "      <th>829</th>\n",
       "      <td>1</td>\n",
       "      <td>1</td>\n",
       "      <td>Stone, Mrs. George Nelson (Martha Evelyn)</td>\n",
       "      <td>-0.5</td>\n",
       "      <td>62.0</td>\n",
       "      <td>0</td>\n",
       "      <td>0</td>\n",
       "      <td>80.0</td>\n",
       "      <td>NaN</td>\n",
       "    </tr>\n",
       "  </tbody>\n",
       "</table>\n",
       "</div>"
      ],
      "text/plain": [
       "     Survived  Pclass                                       Name  Sex   Age  \\\n",
       "61          1       1                        Icard, Miss. Amelie -0.5  38.0   \n",
       "829         1       1  Stone, Mrs. George Nelson (Martha Evelyn) -0.5  62.0   \n",
       "\n",
       "     SibSp  Parch  Fare Embarked  \n",
       "61       0      0  80.0      NaN  \n",
       "829      0      0  80.0      NaN  "
      ]
     },
     "execution_count": 51,
     "metadata": {},
     "output_type": "execute_result"
    }
   ],
   "source": [
    "train[train['Embarked'].isna()]"
   ]
  },
  {
   "cell_type": "code",
   "execution_count": 52,
   "id": "3e7c0a7f-5a8b-48e8-978e-7e19aaa4a61d",
   "metadata": {},
   "outputs": [
    {
     "data": {
      "text/html": [
       "<div>\n",
       "<style scoped>\n",
       "    .dataframe tbody tr th:only-of-type {\n",
       "        vertical-align: middle;\n",
       "    }\n",
       "\n",
       "    .dataframe tbody tr th {\n",
       "        vertical-align: top;\n",
       "    }\n",
       "\n",
       "    .dataframe thead th {\n",
       "        text-align: right;\n",
       "    }\n",
       "</style>\n",
       "<table border=\"1\" class=\"dataframe\">\n",
       "  <thead>\n",
       "    <tr style=\"text-align: right;\">\n",
       "      <th></th>\n",
       "      <th>Survived</th>\n",
       "      <th>Pclass</th>\n",
       "      <th>Name</th>\n",
       "      <th>Sex</th>\n",
       "      <th>Age</th>\n",
       "      <th>SibSp</th>\n",
       "      <th>Parch</th>\n",
       "      <th>Fare</th>\n",
       "      <th>Embarked</th>\n",
       "    </tr>\n",
       "  </thead>\n",
       "  <tbody>\n",
       "    <tr>\n",
       "      <th>11</th>\n",
       "      <td>1</td>\n",
       "      <td>1</td>\n",
       "      <td>Bonnell, Miss. Elizabeth</td>\n",
       "      <td>-0.5</td>\n",
       "      <td>58.0</td>\n",
       "      <td>0</td>\n",
       "      <td>0</td>\n",
       "      <td>26.5500</td>\n",
       "      <td>S</td>\n",
       "    </tr>\n",
       "    <tr>\n",
       "      <th>61</th>\n",
       "      <td>1</td>\n",
       "      <td>1</td>\n",
       "      <td>Icard, Miss. Amelie</td>\n",
       "      <td>-0.5</td>\n",
       "      <td>38.0</td>\n",
       "      <td>0</td>\n",
       "      <td>0</td>\n",
       "      <td>80.0000</td>\n",
       "      <td>NaN</td>\n",
       "    </tr>\n",
       "    <tr>\n",
       "      <th>194</th>\n",
       "      <td>1</td>\n",
       "      <td>1</td>\n",
       "      <td>Brown, Mrs. James Joseph (Margaret Tobin)</td>\n",
       "      <td>-0.5</td>\n",
       "      <td>44.0</td>\n",
       "      <td>0</td>\n",
       "      <td>0</td>\n",
       "      <td>27.7208</td>\n",
       "      <td>C</td>\n",
       "    </tr>\n",
       "    <tr>\n",
       "      <th>195</th>\n",
       "      <td>1</td>\n",
       "      <td>1</td>\n",
       "      <td>Lurette, Miss. Elise</td>\n",
       "      <td>-0.5</td>\n",
       "      <td>58.0</td>\n",
       "      <td>0</td>\n",
       "      <td>0</td>\n",
       "      <td>146.5208</td>\n",
       "      <td>C</td>\n",
       "    </tr>\n",
       "    <tr>\n",
       "      <th>218</th>\n",
       "      <td>1</td>\n",
       "      <td>1</td>\n",
       "      <td>Bazzani, Miss. Albina</td>\n",
       "      <td>-0.5</td>\n",
       "      <td>32.0</td>\n",
       "      <td>0</td>\n",
       "      <td>0</td>\n",
       "      <td>76.2917</td>\n",
       "      <td>C</td>\n",
       "    </tr>\n",
       "    <tr>\n",
       "      <th>256</th>\n",
       "      <td>1</td>\n",
       "      <td>1</td>\n",
       "      <td>Thorne, Mrs. Gertrude Maybelle</td>\n",
       "      <td>-0.5</td>\n",
       "      <td>NaN</td>\n",
       "      <td>0</td>\n",
       "      <td>0</td>\n",
       "      <td>79.2000</td>\n",
       "      <td>C</td>\n",
       "    </tr>\n",
       "    <tr>\n",
       "      <th>257</th>\n",
       "      <td>1</td>\n",
       "      <td>1</td>\n",
       "      <td>Cherry, Miss. Gladys</td>\n",
       "      <td>-0.5</td>\n",
       "      <td>30.0</td>\n",
       "      <td>0</td>\n",
       "      <td>0</td>\n",
       "      <td>86.5000</td>\n",
       "      <td>S</td>\n",
       "    </tr>\n",
       "    <tr>\n",
       "      <th>258</th>\n",
       "      <td>1</td>\n",
       "      <td>1</td>\n",
       "      <td>Ward, Miss. Anna</td>\n",
       "      <td>-0.5</td>\n",
       "      <td>35.0</td>\n",
       "      <td>0</td>\n",
       "      <td>0</td>\n",
       "      <td>512.3292</td>\n",
       "      <td>C</td>\n",
       "    </tr>\n",
       "    <tr>\n",
       "      <th>269</th>\n",
       "      <td>1</td>\n",
       "      <td>1</td>\n",
       "      <td>Bissette, Miss. Amelia</td>\n",
       "      <td>-0.5</td>\n",
       "      <td>35.0</td>\n",
       "      <td>0</td>\n",
       "      <td>0</td>\n",
       "      <td>135.6333</td>\n",
       "      <td>S</td>\n",
       "    </tr>\n",
       "    <tr>\n",
       "      <th>290</th>\n",
       "      <td>1</td>\n",
       "      <td>1</td>\n",
       "      <td>Barber, Miss. Ellen \"Nellie\"</td>\n",
       "      <td>-0.5</td>\n",
       "      <td>26.0</td>\n",
       "      <td>0</td>\n",
       "      <td>0</td>\n",
       "      <td>78.8500</td>\n",
       "      <td>S</td>\n",
       "    </tr>\n",
       "    <tr>\n",
       "      <th>306</th>\n",
       "      <td>1</td>\n",
       "      <td>1</td>\n",
       "      <td>Fleming, Miss. Margaret</td>\n",
       "      <td>-0.5</td>\n",
       "      <td>NaN</td>\n",
       "      <td>0</td>\n",
       "      <td>0</td>\n",
       "      <td>110.8833</td>\n",
       "      <td>C</td>\n",
       "    </tr>\n",
       "    <tr>\n",
       "      <th>309</th>\n",
       "      <td>1</td>\n",
       "      <td>1</td>\n",
       "      <td>Francatelli, Miss. Laura Mabel</td>\n",
       "      <td>-0.5</td>\n",
       "      <td>30.0</td>\n",
       "      <td>0</td>\n",
       "      <td>0</td>\n",
       "      <td>56.9292</td>\n",
       "      <td>C</td>\n",
       "    </tr>\n",
       "    <tr>\n",
       "      <th>310</th>\n",
       "      <td>1</td>\n",
       "      <td>1</td>\n",
       "      <td>Hays, Miss. Margaret Bechstein</td>\n",
       "      <td>-0.5</td>\n",
       "      <td>24.0</td>\n",
       "      <td>0</td>\n",
       "      <td>0</td>\n",
       "      <td>83.1583</td>\n",
       "      <td>C</td>\n",
       "    </tr>\n",
       "    <tr>\n",
       "      <th>325</th>\n",
       "      <td>1</td>\n",
       "      <td>1</td>\n",
       "      <td>Young, Miss. Marie Grice</td>\n",
       "      <td>-0.5</td>\n",
       "      <td>36.0</td>\n",
       "      <td>0</td>\n",
       "      <td>0</td>\n",
       "      <td>135.6333</td>\n",
       "      <td>C</td>\n",
       "    </tr>\n",
       "    <tr>\n",
       "      <th>337</th>\n",
       "      <td>1</td>\n",
       "      <td>1</td>\n",
       "      <td>Burns, Miss. Elizabeth Margaret</td>\n",
       "      <td>-0.5</td>\n",
       "      <td>41.0</td>\n",
       "      <td>0</td>\n",
       "      <td>0</td>\n",
       "      <td>134.5000</td>\n",
       "      <td>C</td>\n",
       "    </tr>\n",
       "    <tr>\n",
       "      <th>369</th>\n",
       "      <td>1</td>\n",
       "      <td>1</td>\n",
       "      <td>Aubart, Mme. Leontine Pauline</td>\n",
       "      <td>-0.5</td>\n",
       "      <td>24.0</td>\n",
       "      <td>0</td>\n",
       "      <td>0</td>\n",
       "      <td>69.3000</td>\n",
       "      <td>C</td>\n",
       "    </tr>\n",
       "    <tr>\n",
       "      <th>380</th>\n",
       "      <td>1</td>\n",
       "      <td>1</td>\n",
       "      <td>Bidois, Miss. Rosalie</td>\n",
       "      <td>-0.5</td>\n",
       "      <td>42.0</td>\n",
       "      <td>0</td>\n",
       "      <td>0</td>\n",
       "      <td>227.5250</td>\n",
       "      <td>C</td>\n",
       "    </tr>\n",
       "    <tr>\n",
       "      <th>504</th>\n",
       "      <td>1</td>\n",
       "      <td>1</td>\n",
       "      <td>Maioni, Miss. Roberta</td>\n",
       "      <td>-0.5</td>\n",
       "      <td>16.0</td>\n",
       "      <td>0</td>\n",
       "      <td>0</td>\n",
       "      <td>86.5000</td>\n",
       "      <td>S</td>\n",
       "    </tr>\n",
       "    <tr>\n",
       "      <th>520</th>\n",
       "      <td>1</td>\n",
       "      <td>1</td>\n",
       "      <td>Perreault, Miss. Anne</td>\n",
       "      <td>-0.5</td>\n",
       "      <td>30.0</td>\n",
       "      <td>0</td>\n",
       "      <td>0</td>\n",
       "      <td>93.5000</td>\n",
       "      <td>S</td>\n",
       "    </tr>\n",
       "    <tr>\n",
       "      <th>537</th>\n",
       "      <td>1</td>\n",
       "      <td>1</td>\n",
       "      <td>LeRoy, Miss. Bertha</td>\n",
       "      <td>-0.5</td>\n",
       "      <td>30.0</td>\n",
       "      <td>0</td>\n",
       "      <td>0</td>\n",
       "      <td>106.4250</td>\n",
       "      <td>C</td>\n",
       "    </tr>\n",
       "    <tr>\n",
       "      <th>609</th>\n",
       "      <td>1</td>\n",
       "      <td>1</td>\n",
       "      <td>Shutes, Miss. Elizabeth W</td>\n",
       "      <td>-0.5</td>\n",
       "      <td>40.0</td>\n",
       "      <td>0</td>\n",
       "      <td>0</td>\n",
       "      <td>153.4625</td>\n",
       "      <td>S</td>\n",
       "    </tr>\n",
       "    <tr>\n",
       "      <th>627</th>\n",
       "      <td>1</td>\n",
       "      <td>1</td>\n",
       "      <td>Longley, Miss. Gretchen Fiske</td>\n",
       "      <td>-0.5</td>\n",
       "      <td>21.0</td>\n",
       "      <td>0</td>\n",
       "      <td>0</td>\n",
       "      <td>77.9583</td>\n",
       "      <td>S</td>\n",
       "    </tr>\n",
       "    <tr>\n",
       "      <th>641</th>\n",
       "      <td>1</td>\n",
       "      <td>1</td>\n",
       "      <td>Sagesser, Mlle. Emma</td>\n",
       "      <td>-0.5</td>\n",
       "      <td>24.0</td>\n",
       "      <td>0</td>\n",
       "      <td>0</td>\n",
       "      <td>69.3000</td>\n",
       "      <td>C</td>\n",
       "    </tr>\n",
       "    <tr>\n",
       "      <th>708</th>\n",
       "      <td>1</td>\n",
       "      <td>1</td>\n",
       "      <td>Cleaver, Miss. Alice</td>\n",
       "      <td>-0.5</td>\n",
       "      <td>22.0</td>\n",
       "      <td>0</td>\n",
       "      <td>0</td>\n",
       "      <td>151.5500</td>\n",
       "      <td>S</td>\n",
       "    </tr>\n",
       "    <tr>\n",
       "      <th>710</th>\n",
       "      <td>1</td>\n",
       "      <td>1</td>\n",
       "      <td>Mayne, Mlle. Berthe Antonine (\"Mrs de Villiers\")</td>\n",
       "      <td>-0.5</td>\n",
       "      <td>24.0</td>\n",
       "      <td>0</td>\n",
       "      <td>0</td>\n",
       "      <td>49.5042</td>\n",
       "      <td>C</td>\n",
       "    </tr>\n",
       "    <tr>\n",
       "      <th>716</th>\n",
       "      <td>1</td>\n",
       "      <td>1</td>\n",
       "      <td>Endres, Miss. Caroline Louise</td>\n",
       "      <td>-0.5</td>\n",
       "      <td>38.0</td>\n",
       "      <td>0</td>\n",
       "      <td>0</td>\n",
       "      <td>227.5250</td>\n",
       "      <td>C</td>\n",
       "    </tr>\n",
       "    <tr>\n",
       "      <th>730</th>\n",
       "      <td>1</td>\n",
       "      <td>1</td>\n",
       "      <td>Allen, Miss. Elisabeth Walton</td>\n",
       "      <td>-0.5</td>\n",
       "      <td>29.0</td>\n",
       "      <td>0</td>\n",
       "      <td>0</td>\n",
       "      <td>211.3375</td>\n",
       "      <td>S</td>\n",
       "    </tr>\n",
       "    <tr>\n",
       "      <th>759</th>\n",
       "      <td>1</td>\n",
       "      <td>1</td>\n",
       "      <td>Rothes, the Countess. of (Lucy Noel Martha Dye...</td>\n",
       "      <td>-0.5</td>\n",
       "      <td>33.0</td>\n",
       "      <td>0</td>\n",
       "      <td>0</td>\n",
       "      <td>86.5000</td>\n",
       "      <td>S</td>\n",
       "    </tr>\n",
       "    <tr>\n",
       "      <th>796</th>\n",
       "      <td>1</td>\n",
       "      <td>1</td>\n",
       "      <td>Leader, Dr. Alice (Farnham)</td>\n",
       "      <td>-0.5</td>\n",
       "      <td>49.0</td>\n",
       "      <td>0</td>\n",
       "      <td>0</td>\n",
       "      <td>25.9292</td>\n",
       "      <td>S</td>\n",
       "    </tr>\n",
       "    <tr>\n",
       "      <th>829</th>\n",
       "      <td>1</td>\n",
       "      <td>1</td>\n",
       "      <td>Stone, Mrs. George Nelson (Martha Evelyn)</td>\n",
       "      <td>-0.5</td>\n",
       "      <td>62.0</td>\n",
       "      <td>0</td>\n",
       "      <td>0</td>\n",
       "      <td>80.0000</td>\n",
       "      <td>NaN</td>\n",
       "    </tr>\n",
       "    <tr>\n",
       "      <th>842</th>\n",
       "      <td>1</td>\n",
       "      <td>1</td>\n",
       "      <td>Serepeca, Miss. Augusta</td>\n",
       "      <td>-0.5</td>\n",
       "      <td>30.0</td>\n",
       "      <td>0</td>\n",
       "      <td>0</td>\n",
       "      <td>31.0000</td>\n",
       "      <td>C</td>\n",
       "    </tr>\n",
       "    <tr>\n",
       "      <th>862</th>\n",
       "      <td>1</td>\n",
       "      <td>1</td>\n",
       "      <td>Swift, Mrs. Frederick Joel (Margaret Welles Ba...</td>\n",
       "      <td>-0.5</td>\n",
       "      <td>48.0</td>\n",
       "      <td>0</td>\n",
       "      <td>0</td>\n",
       "      <td>25.9292</td>\n",
       "      <td>S</td>\n",
       "    </tr>\n",
       "    <tr>\n",
       "      <th>887</th>\n",
       "      <td>1</td>\n",
       "      <td>1</td>\n",
       "      <td>Graham, Miss. Margaret Edith</td>\n",
       "      <td>-0.5</td>\n",
       "      <td>19.0</td>\n",
       "      <td>0</td>\n",
       "      <td>0</td>\n",
       "      <td>30.0000</td>\n",
       "      <td>S</td>\n",
       "    </tr>\n",
       "  </tbody>\n",
       "</table>\n",
       "</div>"
      ],
      "text/plain": [
       "     Survived  Pclass                                               Name  Sex  \\\n",
       "11          1       1                           Bonnell, Miss. Elizabeth -0.5   \n",
       "61          1       1                                Icard, Miss. Amelie -0.5   \n",
       "194         1       1          Brown, Mrs. James Joseph (Margaret Tobin) -0.5   \n",
       "195         1       1                               Lurette, Miss. Elise -0.5   \n",
       "218         1       1                              Bazzani, Miss. Albina -0.5   \n",
       "256         1       1                     Thorne, Mrs. Gertrude Maybelle -0.5   \n",
       "257         1       1                               Cherry, Miss. Gladys -0.5   \n",
       "258         1       1                                   Ward, Miss. Anna -0.5   \n",
       "269         1       1                             Bissette, Miss. Amelia -0.5   \n",
       "290         1       1                       Barber, Miss. Ellen \"Nellie\" -0.5   \n",
       "306         1       1                            Fleming, Miss. Margaret -0.5   \n",
       "309         1       1                     Francatelli, Miss. Laura Mabel -0.5   \n",
       "310         1       1                     Hays, Miss. Margaret Bechstein -0.5   \n",
       "325         1       1                           Young, Miss. Marie Grice -0.5   \n",
       "337         1       1                    Burns, Miss. Elizabeth Margaret -0.5   \n",
       "369         1       1                      Aubart, Mme. Leontine Pauline -0.5   \n",
       "380         1       1                              Bidois, Miss. Rosalie -0.5   \n",
       "504         1       1                              Maioni, Miss. Roberta -0.5   \n",
       "520         1       1                              Perreault, Miss. Anne -0.5   \n",
       "537         1       1                                LeRoy, Miss. Bertha -0.5   \n",
       "609         1       1                          Shutes, Miss. Elizabeth W -0.5   \n",
       "627         1       1                      Longley, Miss. Gretchen Fiske -0.5   \n",
       "641         1       1                               Sagesser, Mlle. Emma -0.5   \n",
       "708         1       1                               Cleaver, Miss. Alice -0.5   \n",
       "710         1       1   Mayne, Mlle. Berthe Antonine (\"Mrs de Villiers\") -0.5   \n",
       "716         1       1                      Endres, Miss. Caroline Louise -0.5   \n",
       "730         1       1                      Allen, Miss. Elisabeth Walton -0.5   \n",
       "759         1       1  Rothes, the Countess. of (Lucy Noel Martha Dye... -0.5   \n",
       "796         1       1                        Leader, Dr. Alice (Farnham) -0.5   \n",
       "829         1       1          Stone, Mrs. George Nelson (Martha Evelyn) -0.5   \n",
       "842         1       1                            Serepeca, Miss. Augusta -0.5   \n",
       "862         1       1  Swift, Mrs. Frederick Joel (Margaret Welles Ba... -0.5   \n",
       "887         1       1                       Graham, Miss. Margaret Edith -0.5   \n",
       "\n",
       "      Age  SibSp  Parch      Fare Embarked  \n",
       "11   58.0      0      0   26.5500        S  \n",
       "61   38.0      0      0   80.0000      NaN  \n",
       "194  44.0      0      0   27.7208        C  \n",
       "195  58.0      0      0  146.5208        C  \n",
       "218  32.0      0      0   76.2917        C  \n",
       "256   NaN      0      0   79.2000        C  \n",
       "257  30.0      0      0   86.5000        S  \n",
       "258  35.0      0      0  512.3292        C  \n",
       "269  35.0      0      0  135.6333        S  \n",
       "290  26.0      0      0   78.8500        S  \n",
       "306   NaN      0      0  110.8833        C  \n",
       "309  30.0      0      0   56.9292        C  \n",
       "310  24.0      0      0   83.1583        C  \n",
       "325  36.0      0      0  135.6333        C  \n",
       "337  41.0      0      0  134.5000        C  \n",
       "369  24.0      0      0   69.3000        C  \n",
       "380  42.0      0      0  227.5250        C  \n",
       "504  16.0      0      0   86.5000        S  \n",
       "520  30.0      0      0   93.5000        S  \n",
       "537  30.0      0      0  106.4250        C  \n",
       "609  40.0      0      0  153.4625        S  \n",
       "627  21.0      0      0   77.9583        S  \n",
       "641  24.0      0      0   69.3000        C  \n",
       "708  22.0      0      0  151.5500        S  \n",
       "710  24.0      0      0   49.5042        C  \n",
       "716  38.0      0      0  227.5250        C  \n",
       "730  29.0      0      0  211.3375        S  \n",
       "759  33.0      0      0   86.5000        S  \n",
       "796  49.0      0      0   25.9292        S  \n",
       "829  62.0      0      0   80.0000      NaN  \n",
       "842  30.0      0      0   31.0000        C  \n",
       "862  48.0      0      0   25.9292        S  \n",
       "887  19.0      0      0   30.0000        S  "
      ]
     },
     "execution_count": 52,
     "metadata": {},
     "output_type": "execute_result"
    }
   ],
   "source": [
    "train[train['Survived']==1][train['Pclass']==1][train['Sex']==-0.5][train['SibSp']==0][train['Parch']==0]  #选出Survived，Pclass，Sex，SibSp parch与缺失数据相同的行"
   ]
  },
  {
   "cell_type": "code",
   "execution_count": 53,
   "id": "4c3b99a6-6f19-452e-978f-267c61eaf998",
   "metadata": {},
   "outputs": [
    {
     "data": {
      "text/plain": [
       "C    17\n",
       "S    14\n",
       "Name: Embarked, dtype: int64"
      ]
     },
     "execution_count": 53,
     "metadata": {},
     "output_type": "execute_result"
    }
   ],
   "source": [
    "train[train['Survived']==1][train['Pclass']==1][train['Sex']==-0.5][train['SibSp']==0][train['Parch']==0]['Embarked'].value_counts() #查看计数"
   ]
  },
  {
   "cell_type": "code",
   "execution_count": 54,
   "id": "c9489316-6d9f-4880-970d-4ff3c30a813d",
   "metadata": {},
   "outputs": [],
   "source": [
    "train['Embarked'].fillna('C' ,inplace=True)     #用C填充"
   ]
  },
  {
   "cell_type": "code",
   "execution_count": 55,
   "id": "6b9d7d2d-a496-4d38-ac37-724915abb5e8",
   "metadata": {},
   "outputs": [
    {
     "data": {
      "text/html": [
       "<div>\n",
       "<style scoped>\n",
       "    .dataframe tbody tr th:only-of-type {\n",
       "        vertical-align: middle;\n",
       "    }\n",
       "\n",
       "    .dataframe tbody tr th {\n",
       "        vertical-align: top;\n",
       "    }\n",
       "\n",
       "    .dataframe thead th {\n",
       "        text-align: right;\n",
       "    }\n",
       "</style>\n",
       "<table border=\"1\" class=\"dataframe\">\n",
       "  <thead>\n",
       "    <tr style=\"text-align: right;\">\n",
       "      <th></th>\n",
       "      <th>Survived</th>\n",
       "      <th>Pclass</th>\n",
       "      <th>Name</th>\n",
       "      <th>Sex</th>\n",
       "      <th>Age</th>\n",
       "      <th>SibSp</th>\n",
       "      <th>Parch</th>\n",
       "      <th>Fare</th>\n",
       "      <th>Embarked</th>\n",
       "    </tr>\n",
       "  </thead>\n",
       "  <tbody>\n",
       "  </tbody>\n",
       "</table>\n",
       "</div>"
      ],
      "text/plain": [
       "Empty DataFrame\n",
       "Columns: [Survived, Pclass, Name, Sex, Age, SibSp, Parch, Fare, Embarked]\n",
       "Index: []"
      ]
     },
     "execution_count": 55,
     "metadata": {},
     "output_type": "execute_result"
    }
   ],
   "source": [
    "train[train['Embarked'].isna()]"
   ]
  },
  {
   "cell_type": "markdown",
   "id": "77780196-fafd-4672-92ba-65c9f9dbef5a",
   "metadata": {},
   "source": [
    "<font color='#ff590b'><font size=5> 下面将Embarked装换为数值</font><br/>"
   ]
  },
  {
   "cell_type": "code",
   "execution_count": 56,
   "id": "afe7f7c4-f441-43f6-99ed-f2939d5b3249",
   "metadata": {},
   "outputs": [
    {
     "data": {
      "text/plain": [
       "S    644\n",
       "C    170\n",
       "Q     77\n",
       "Name: Embarked, dtype: int64"
      ]
     },
     "execution_count": 56,
     "metadata": {},
     "output_type": "execute_result"
    }
   ],
   "source": [
    "train['Embarked'].value_counts()"
   ]
  },
  {
   "cell_type": "code",
   "execution_count": 57,
   "id": "7d051f10-1dfe-4c35-8af9-2af5fa254c9a",
   "metadata": {},
   "outputs": [],
   "source": [
    "#将数据集中的C,S,Q替换为数值\n",
    "for i in range(train.shape[0]):\n",
    "    if train['Embarked'][i]=='C':\n",
    "        train['Embarked'][i]=-0.4\n",
    "    elif train['Embarked'][i]=='S':\n",
    "        train['Embarked'][i]=0.1\n",
    "    elif train['Embarked'][i]=='Q':\n",
    "        train['Embarked'][i]=0.6\n",
    "        \n",
    "for i in range(test.shape[0]):\n",
    "    if test['Embarked'][i]=='C':\n",
    "        test['Embarked'][i]=-0.4\n",
    "    elif test['Embarked'][i]=='S':\n",
    "        test['Embarked'][i]=0.1\n",
    "    elif test['Embarked'][i]=='Q':\n",
    "        test['Embarked'][i]=0.6\n",
    "        \n",
    "train['Embarked']=train['Embarked'].astype(float)      \n",
    "test['Embarked']=test['Embarked'].astype(float)"
   ]
  },
  {
   "cell_type": "code",
   "execution_count": 58,
   "id": "04b19af9-254b-4300-8647-deafd773b662",
   "metadata": {},
   "outputs": [
    {
     "data": {
      "text/plain": [
       "0      0.1\n",
       "1     -0.4\n",
       "2      0.1\n",
       "3      0.1\n",
       "4      0.1\n",
       "      ... \n",
       "886    0.1\n",
       "887    0.1\n",
       "888    0.1\n",
       "889   -0.4\n",
       "890    0.6\n",
       "Name: Embarked, Length: 891, dtype: float64"
      ]
     },
     "execution_count": 58,
     "metadata": {},
     "output_type": "execute_result"
    }
   ],
   "source": [
    "train['Embarked']"
   ]
  },
  {
   "cell_type": "markdown",
   "id": "a5003d4f-91c3-45e4-8c61-a6375848c7a1",
   "metadata": {},
   "source": [
    "#### SibSp与Parch"
   ]
  },
  {
   "cell_type": "markdown",
   "id": "99a4c8e3-7756-44f1-81e6-0a145d3b8e89",
   "metadata": {},
   "source": [
    "<font color='#ff590b'><font size=5> SibSp与Parch表示的都是亲属，将其合并 </font><br/>"
   ]
  },
  {
   "cell_type": "code",
   "execution_count": 59,
   "id": "10543167-2126-4ed1-8f6a-3aa1c94006ee",
   "metadata": {},
   "outputs": [],
   "source": [
    "#亲属包括自己，加1\n",
    "train['family']=train['SibSp']+train['Parch']+1\n",
    "test['family']=test['SibSp']+test['Parch']+1"
   ]
  },
  {
   "cell_type": "code",
   "execution_count": 60,
   "id": "df7a8c08-0519-4b59-9a29-219d8b914d52",
   "metadata": {},
   "outputs": [],
   "source": [
    "#删除SibSp，Parch\n",
    "train = train.drop(['SibSp', 'Parch'], axis=1)\n",
    "test = test.drop(['SibSp', 'Parch'], axis=1)\n",
    "combine = [train, test]"
   ]
  },
  {
   "cell_type": "code",
   "execution_count": 61,
   "id": "0ddb743c-5ed4-44d8-a0ed-aa8081aa7179",
   "metadata": {},
   "outputs": [
    {
     "data": {
      "text/html": [
       "<div>\n",
       "<style scoped>\n",
       "    .dataframe tbody tr th:only-of-type {\n",
       "        vertical-align: middle;\n",
       "    }\n",
       "\n",
       "    .dataframe tbody tr th {\n",
       "        vertical-align: top;\n",
       "    }\n",
       "\n",
       "    .dataframe thead th {\n",
       "        text-align: right;\n",
       "    }\n",
       "</style>\n",
       "<table border=\"1\" class=\"dataframe\">\n",
       "  <thead>\n",
       "    <tr style=\"text-align: right;\">\n",
       "      <th></th>\n",
       "      <th>Pclass</th>\n",
       "      <th>Name</th>\n",
       "      <th>Sex</th>\n",
       "      <th>Age</th>\n",
       "      <th>Fare</th>\n",
       "      <th>Embarked</th>\n",
       "      <th>family</th>\n",
       "    </tr>\n",
       "  </thead>\n",
       "  <tbody>\n",
       "    <tr>\n",
       "      <th>0</th>\n",
       "      <td>3</td>\n",
       "      <td>Kelly, Mr. James</td>\n",
       "      <td>0.5</td>\n",
       "      <td>34.5</td>\n",
       "      <td>7.8292</td>\n",
       "      <td>0.6</td>\n",
       "      <td>1</td>\n",
       "    </tr>\n",
       "    <tr>\n",
       "      <th>1</th>\n",
       "      <td>3</td>\n",
       "      <td>Wilkes, Mrs. James (Ellen Needs)</td>\n",
       "      <td>-0.5</td>\n",
       "      <td>47.0</td>\n",
       "      <td>7.0000</td>\n",
       "      <td>0.1</td>\n",
       "      <td>2</td>\n",
       "    </tr>\n",
       "    <tr>\n",
       "      <th>2</th>\n",
       "      <td>2</td>\n",
       "      <td>Myles, Mr. Thomas Francis</td>\n",
       "      <td>0.5</td>\n",
       "      <td>62.0</td>\n",
       "      <td>9.6875</td>\n",
       "      <td>0.6</td>\n",
       "      <td>1</td>\n",
       "    </tr>\n",
       "    <tr>\n",
       "      <th>3</th>\n",
       "      <td>3</td>\n",
       "      <td>Wirz, Mr. Albert</td>\n",
       "      <td>0.5</td>\n",
       "      <td>27.0</td>\n",
       "      <td>8.6625</td>\n",
       "      <td>0.1</td>\n",
       "      <td>1</td>\n",
       "    </tr>\n",
       "    <tr>\n",
       "      <th>4</th>\n",
       "      <td>3</td>\n",
       "      <td>Hirvonen, Mrs. Alexander (Helga E Lindqvist)</td>\n",
       "      <td>-0.5</td>\n",
       "      <td>22.0</td>\n",
       "      <td>12.2875</td>\n",
       "      <td>0.1</td>\n",
       "      <td>3</td>\n",
       "    </tr>\n",
       "    <tr>\n",
       "      <th>...</th>\n",
       "      <td>...</td>\n",
       "      <td>...</td>\n",
       "      <td>...</td>\n",
       "      <td>...</td>\n",
       "      <td>...</td>\n",
       "      <td>...</td>\n",
       "      <td>...</td>\n",
       "    </tr>\n",
       "    <tr>\n",
       "      <th>413</th>\n",
       "      <td>3</td>\n",
       "      <td>Spector, Mr. Woolf</td>\n",
       "      <td>0.5</td>\n",
       "      <td>NaN</td>\n",
       "      <td>8.0500</td>\n",
       "      <td>0.1</td>\n",
       "      <td>1</td>\n",
       "    </tr>\n",
       "    <tr>\n",
       "      <th>414</th>\n",
       "      <td>1</td>\n",
       "      <td>Oliva y Ocana, Dona. Fermina</td>\n",
       "      <td>-0.5</td>\n",
       "      <td>39.0</td>\n",
       "      <td>108.9000</td>\n",
       "      <td>-0.4</td>\n",
       "      <td>1</td>\n",
       "    </tr>\n",
       "    <tr>\n",
       "      <th>415</th>\n",
       "      <td>3</td>\n",
       "      <td>Saether, Mr. Simon Sivertsen</td>\n",
       "      <td>0.5</td>\n",
       "      <td>38.5</td>\n",
       "      <td>7.2500</td>\n",
       "      <td>0.1</td>\n",
       "      <td>1</td>\n",
       "    </tr>\n",
       "    <tr>\n",
       "      <th>416</th>\n",
       "      <td>3</td>\n",
       "      <td>Ware, Mr. Frederick</td>\n",
       "      <td>0.5</td>\n",
       "      <td>NaN</td>\n",
       "      <td>8.0500</td>\n",
       "      <td>0.1</td>\n",
       "      <td>1</td>\n",
       "    </tr>\n",
       "    <tr>\n",
       "      <th>417</th>\n",
       "      <td>3</td>\n",
       "      <td>Peter, Master. Michael J</td>\n",
       "      <td>0.5</td>\n",
       "      <td>NaN</td>\n",
       "      <td>22.3583</td>\n",
       "      <td>-0.4</td>\n",
       "      <td>3</td>\n",
       "    </tr>\n",
       "  </tbody>\n",
       "</table>\n",
       "<p>418 rows × 7 columns</p>\n",
       "</div>"
      ],
      "text/plain": [
       "     Pclass                                          Name  Sex   Age  \\\n",
       "0         3                              Kelly, Mr. James  0.5  34.5   \n",
       "1         3              Wilkes, Mrs. James (Ellen Needs) -0.5  47.0   \n",
       "2         2                     Myles, Mr. Thomas Francis  0.5  62.0   \n",
       "3         3                              Wirz, Mr. Albert  0.5  27.0   \n",
       "4         3  Hirvonen, Mrs. Alexander (Helga E Lindqvist) -0.5  22.0   \n",
       "..      ...                                           ...  ...   ...   \n",
       "413       3                            Spector, Mr. Woolf  0.5   NaN   \n",
       "414       1                  Oliva y Ocana, Dona. Fermina -0.5  39.0   \n",
       "415       3                  Saether, Mr. Simon Sivertsen  0.5  38.5   \n",
       "416       3                           Ware, Mr. Frederick  0.5   NaN   \n",
       "417       3                      Peter, Master. Michael J  0.5   NaN   \n",
       "\n",
       "         Fare  Embarked  family  \n",
       "0      7.8292       0.6       1  \n",
       "1      7.0000       0.1       2  \n",
       "2      9.6875       0.6       1  \n",
       "3      8.6625       0.1       1  \n",
       "4     12.2875       0.1       3  \n",
       "..        ...       ...     ...  \n",
       "413    8.0500       0.1       1  \n",
       "414  108.9000      -0.4       1  \n",
       "415    7.2500       0.1       1  \n",
       "416    8.0500       0.1       1  \n",
       "417   22.3583      -0.4       3  \n",
       "\n",
       "[418 rows x 7 columns]"
      ]
     },
     "execution_count": 61,
     "metadata": {},
     "output_type": "execute_result"
    }
   ],
   "source": [
    "test"
   ]
  },
  {
   "cell_type": "markdown",
   "id": "e68fcb46-6c57-4e2b-ad31-106641ce9f1d",
   "metadata": {
    "tags": []
   },
   "source": [
    "#### Name信息提取"
   ]
  },
  {
   "cell_type": "code",
   "execution_count": 62,
   "id": "b415ed23-11a4-4697-995b-b611d67e44f8",
   "metadata": {},
   "outputs": [
    {
     "data": {
      "text/html": [
       "<div>\n",
       "<style scoped>\n",
       "    .dataframe tbody tr th:only-of-type {\n",
       "        vertical-align: middle;\n",
       "    }\n",
       "\n",
       "    .dataframe tbody tr th {\n",
       "        vertical-align: top;\n",
       "    }\n",
       "\n",
       "    .dataframe thead th {\n",
       "        text-align: right;\n",
       "    }\n",
       "</style>\n",
       "<table border=\"1\" class=\"dataframe\">\n",
       "  <thead>\n",
       "    <tr style=\"text-align: right;\">\n",
       "      <th>Sex</th>\n",
       "      <th>-0.5</th>\n",
       "      <th>0.5</th>\n",
       "    </tr>\n",
       "    <tr>\n",
       "      <th>call</th>\n",
       "      <th></th>\n",
       "      <th></th>\n",
       "    </tr>\n",
       "  </thead>\n",
       "  <tbody>\n",
       "    <tr>\n",
       "      <th>Capt</th>\n",
       "      <td>0</td>\n",
       "      <td>1</td>\n",
       "    </tr>\n",
       "    <tr>\n",
       "      <th>Col</th>\n",
       "      <td>0</td>\n",
       "      <td>2</td>\n",
       "    </tr>\n",
       "    <tr>\n",
       "      <th>Countess</th>\n",
       "      <td>1</td>\n",
       "      <td>0</td>\n",
       "    </tr>\n",
       "    <tr>\n",
       "      <th>Don</th>\n",
       "      <td>0</td>\n",
       "      <td>1</td>\n",
       "    </tr>\n",
       "    <tr>\n",
       "      <th>Dr</th>\n",
       "      <td>1</td>\n",
       "      <td>6</td>\n",
       "    </tr>\n",
       "    <tr>\n",
       "      <th>Jonkheer</th>\n",
       "      <td>0</td>\n",
       "      <td>1</td>\n",
       "    </tr>\n",
       "    <tr>\n",
       "      <th>Lady</th>\n",
       "      <td>1</td>\n",
       "      <td>0</td>\n",
       "    </tr>\n",
       "    <tr>\n",
       "      <th>Major</th>\n",
       "      <td>0</td>\n",
       "      <td>2</td>\n",
       "    </tr>\n",
       "    <tr>\n",
       "      <th>Master</th>\n",
       "      <td>0</td>\n",
       "      <td>40</td>\n",
       "    </tr>\n",
       "    <tr>\n",
       "      <th>Miss</th>\n",
       "      <td>182</td>\n",
       "      <td>0</td>\n",
       "    </tr>\n",
       "    <tr>\n",
       "      <th>Mlle</th>\n",
       "      <td>2</td>\n",
       "      <td>0</td>\n",
       "    </tr>\n",
       "    <tr>\n",
       "      <th>Mme</th>\n",
       "      <td>1</td>\n",
       "      <td>0</td>\n",
       "    </tr>\n",
       "    <tr>\n",
       "      <th>Mr</th>\n",
       "      <td>0</td>\n",
       "      <td>517</td>\n",
       "    </tr>\n",
       "    <tr>\n",
       "      <th>Mrs</th>\n",
       "      <td>125</td>\n",
       "      <td>0</td>\n",
       "    </tr>\n",
       "    <tr>\n",
       "      <th>Ms</th>\n",
       "      <td>1</td>\n",
       "      <td>0</td>\n",
       "    </tr>\n",
       "    <tr>\n",
       "      <th>Rev</th>\n",
       "      <td>0</td>\n",
       "      <td>6</td>\n",
       "    </tr>\n",
       "    <tr>\n",
       "      <th>Sir</th>\n",
       "      <td>0</td>\n",
       "      <td>1</td>\n",
       "    </tr>\n",
       "  </tbody>\n",
       "</table>\n",
       "</div>"
      ],
      "text/plain": [
       "Sex       -0.5   0.5\n",
       "call                \n",
       "Capt         0     1\n",
       "Col          0     2\n",
       "Countess     1     0\n",
       "Don          0     1\n",
       "Dr           1     6\n",
       "Jonkheer     0     1\n",
       "Lady         1     0\n",
       "Major        0     2\n",
       "Master       0    40\n",
       "Miss       182     0\n",
       "Mlle         2     0\n",
       "Mme          1     0\n",
       "Mr           0   517\n",
       "Mrs        125     0\n",
       "Ms           1     0\n",
       "Rev          0     6\n",
       "Sir          0     1"
      ]
     },
     "execution_count": 62,
     "metadata": {},
     "output_type": "execute_result"
    }
   ],
   "source": [
    "#获取称呼\n",
    "for dataset in combine:\n",
    "    dataset['call'] = dataset.Name.str.extract(' ([A-Za-z]+)\\.', expand=False)\n",
    "\n",
    "pd.crosstab(train['call'], train['Sex'])"
   ]
  },
  {
   "cell_type": "code",
   "execution_count": 63,
   "id": "f8e98407-9638-4d9c-a903-fc8204be3159",
   "metadata": {},
   "outputs": [
    {
     "data": {
      "text/html": [
       "<div>\n",
       "<style scoped>\n",
       "    .dataframe tbody tr th:only-of-type {\n",
       "        vertical-align: middle;\n",
       "    }\n",
       "\n",
       "    .dataframe tbody tr th {\n",
       "        vertical-align: top;\n",
       "    }\n",
       "\n",
       "    .dataframe thead th {\n",
       "        text-align: right;\n",
       "    }\n",
       "</style>\n",
       "<table border=\"1\" class=\"dataframe\">\n",
       "  <thead>\n",
       "    <tr style=\"text-align: right;\">\n",
       "      <th></th>\n",
       "      <th>call</th>\n",
       "      <th>Survived</th>\n",
       "    </tr>\n",
       "  </thead>\n",
       "  <tbody>\n",
       "    <tr>\n",
       "      <th>0</th>\n",
       "      <td>Master</td>\n",
       "      <td>0.575000</td>\n",
       "    </tr>\n",
       "    <tr>\n",
       "      <th>1</th>\n",
       "      <td>Miss</td>\n",
       "      <td>0.702703</td>\n",
       "    </tr>\n",
       "    <tr>\n",
       "      <th>2</th>\n",
       "      <td>Mr</td>\n",
       "      <td>0.156673</td>\n",
       "    </tr>\n",
       "    <tr>\n",
       "      <th>3</th>\n",
       "      <td>Mrs</td>\n",
       "      <td>0.793651</td>\n",
       "    </tr>\n",
       "    <tr>\n",
       "      <th>4</th>\n",
       "      <td>other</td>\n",
       "      <td>0.347826</td>\n",
       "    </tr>\n",
       "  </tbody>\n",
       "</table>\n",
       "</div>"
      ],
      "text/plain": [
       "     call  Survived\n",
       "0  Master  0.575000\n",
       "1    Miss  0.702703\n",
       "2      Mr  0.156673\n",
       "3     Mrs  0.793651\n",
       "4   other  0.347826"
      ]
     },
     "execution_count": 63,
     "metadata": {},
     "output_type": "execute_result"
    }
   ],
   "source": [
    "#将称呼统一归类并查看比例\n",
    "for dataset in combine:\n",
    "    dataset['call'] = dataset['call'].replace(['Lady', 'Countess','Capt', 'Col','Don', 'Dr', 'Major', 'Rev', 'Sir', 'Jonkheer', 'Dona'], 'other')\n",
    "    dataset['call'] = dataset['call'].replace('Mlle', 'Miss')\n",
    "    dataset['call'] = dataset['call'].replace('Ms', 'Miss')\n",
    "    dataset['call'] = dataset['call'].replace('Mme', 'Mrs')\n",
    "    \n",
    "train[['call', 'Survived']].groupby(['call'], as_index=False).mean()"
   ]
  },
  {
   "cell_type": "code",
   "execution_count": 64,
   "id": "943ebec1-84d3-4c55-b8ca-1138c3f8fb31",
   "metadata": {},
   "outputs": [
    {
     "data": {
      "text/html": [
       "<div>\n",
       "<style scoped>\n",
       "    .dataframe tbody tr th:only-of-type {\n",
       "        vertical-align: middle;\n",
       "    }\n",
       "\n",
       "    .dataframe tbody tr th {\n",
       "        vertical-align: top;\n",
       "    }\n",
       "\n",
       "    .dataframe thead th {\n",
       "        text-align: right;\n",
       "    }\n",
       "</style>\n",
       "<table border=\"1\" class=\"dataframe\">\n",
       "  <thead>\n",
       "    <tr style=\"text-align: right;\">\n",
       "      <th></th>\n",
       "      <th>Survived</th>\n",
       "      <th>Pclass</th>\n",
       "      <th>Name</th>\n",
       "      <th>Sex</th>\n",
       "      <th>Age</th>\n",
       "      <th>Fare</th>\n",
       "      <th>Embarked</th>\n",
       "      <th>family</th>\n",
       "      <th>call</th>\n",
       "    </tr>\n",
       "  </thead>\n",
       "  <tbody>\n",
       "    <tr>\n",
       "      <th>0</th>\n",
       "      <td>0</td>\n",
       "      <td>3</td>\n",
       "      <td>Braund, Mr. Owen Harris</td>\n",
       "      <td>0.5</td>\n",
       "      <td>22.0</td>\n",
       "      <td>7.2500</td>\n",
       "      <td>0.1</td>\n",
       "      <td>2</td>\n",
       "      <td>1</td>\n",
       "    </tr>\n",
       "    <tr>\n",
       "      <th>1</th>\n",
       "      <td>1</td>\n",
       "      <td>1</td>\n",
       "      <td>Cumings, Mrs. John Bradley (Florence Briggs Th...</td>\n",
       "      <td>-0.5</td>\n",
       "      <td>38.0</td>\n",
       "      <td>71.2833</td>\n",
       "      <td>-0.4</td>\n",
       "      <td>2</td>\n",
       "      <td>3</td>\n",
       "    </tr>\n",
       "    <tr>\n",
       "      <th>2</th>\n",
       "      <td>1</td>\n",
       "      <td>3</td>\n",
       "      <td>Heikkinen, Miss. Laina</td>\n",
       "      <td>-0.5</td>\n",
       "      <td>26.0</td>\n",
       "      <td>7.9250</td>\n",
       "      <td>0.1</td>\n",
       "      <td>1</td>\n",
       "      <td>2</td>\n",
       "    </tr>\n",
       "    <tr>\n",
       "      <th>3</th>\n",
       "      <td>1</td>\n",
       "      <td>1</td>\n",
       "      <td>Futrelle, Mrs. Jacques Heath (Lily May Peel)</td>\n",
       "      <td>-0.5</td>\n",
       "      <td>35.0</td>\n",
       "      <td>53.1000</td>\n",
       "      <td>0.1</td>\n",
       "      <td>2</td>\n",
       "      <td>3</td>\n",
       "    </tr>\n",
       "    <tr>\n",
       "      <th>4</th>\n",
       "      <td>0</td>\n",
       "      <td>3</td>\n",
       "      <td>Allen, Mr. William Henry</td>\n",
       "      <td>0.5</td>\n",
       "      <td>35.0</td>\n",
       "      <td>8.0500</td>\n",
       "      <td>0.1</td>\n",
       "      <td>1</td>\n",
       "      <td>1</td>\n",
       "    </tr>\n",
       "  </tbody>\n",
       "</table>\n",
       "</div>"
      ],
      "text/plain": [
       "   Survived  Pclass                                               Name  Sex  \\\n",
       "0         0       3                            Braund, Mr. Owen Harris  0.5   \n",
       "1         1       1  Cumings, Mrs. John Bradley (Florence Briggs Th... -0.5   \n",
       "2         1       3                             Heikkinen, Miss. Laina -0.5   \n",
       "3         1       1       Futrelle, Mrs. Jacques Heath (Lily May Peel) -0.5   \n",
       "4         0       3                           Allen, Mr. William Henry  0.5   \n",
       "\n",
       "    Age     Fare  Embarked  family  call  \n",
       "0  22.0   7.2500       0.1       2     1  \n",
       "1  38.0  71.2833      -0.4       2     3  \n",
       "2  26.0   7.9250       0.1       1     2  \n",
       "3  35.0  53.1000       0.1       2     3  \n",
       "4  35.0   8.0500       0.1       1     1  "
      ]
     },
     "execution_count": 64,
     "metadata": {},
     "output_type": "execute_result"
    }
   ],
   "source": [
    "#用数值替换称呼\n",
    "call_mapping = {\"Mr\": 1, \"Miss\": 2, \"Mrs\": 3, \"Master\": 4, \"other\": 5}\n",
    "for dataset in combine:\n",
    "    dataset['call'] = dataset['call'].map(call_mapping)\n",
    "    dataset['call'] = dataset['call'].fillna(0)\n",
    "\n",
    "train.head()"
   ]
  },
  {
   "cell_type": "code",
   "execution_count": 65,
   "id": "c39016c0-b5f1-4fd1-8e37-792aa09afa5d",
   "metadata": {},
   "outputs": [],
   "source": [
    "#剔除Name\n",
    "train = train.drop(['Name'], axis=1)\n",
    "test = test.drop(['Name'], axis=1)\n",
    "combine = [train, test]"
   ]
  },
  {
   "cell_type": "code",
   "execution_count": 66,
   "id": "5c6a2543-4014-4adb-a729-6ac9fcbf4cc4",
   "metadata": {},
   "outputs": [
    {
     "data": {
      "text/html": [
       "<div>\n",
       "<style scoped>\n",
       "    .dataframe tbody tr th:only-of-type {\n",
       "        vertical-align: middle;\n",
       "    }\n",
       "\n",
       "    .dataframe tbody tr th {\n",
       "        vertical-align: top;\n",
       "    }\n",
       "\n",
       "    .dataframe thead th {\n",
       "        text-align: right;\n",
       "    }\n",
       "</style>\n",
       "<table border=\"1\" class=\"dataframe\">\n",
       "  <thead>\n",
       "    <tr style=\"text-align: right;\">\n",
       "      <th></th>\n",
       "      <th>Survived</th>\n",
       "      <th>Pclass</th>\n",
       "      <th>Sex</th>\n",
       "      <th>Age</th>\n",
       "      <th>Fare</th>\n",
       "      <th>Embarked</th>\n",
       "      <th>family</th>\n",
       "      <th>call</th>\n",
       "    </tr>\n",
       "  </thead>\n",
       "  <tbody>\n",
       "    <tr>\n",
       "      <th>0</th>\n",
       "      <td>0</td>\n",
       "      <td>3</td>\n",
       "      <td>0.5</td>\n",
       "      <td>22.0</td>\n",
       "      <td>7.2500</td>\n",
       "      <td>0.1</td>\n",
       "      <td>2</td>\n",
       "      <td>1</td>\n",
       "    </tr>\n",
       "    <tr>\n",
       "      <th>1</th>\n",
       "      <td>1</td>\n",
       "      <td>1</td>\n",
       "      <td>-0.5</td>\n",
       "      <td>38.0</td>\n",
       "      <td>71.2833</td>\n",
       "      <td>-0.4</td>\n",
       "      <td>2</td>\n",
       "      <td>3</td>\n",
       "    </tr>\n",
       "    <tr>\n",
       "      <th>2</th>\n",
       "      <td>1</td>\n",
       "      <td>3</td>\n",
       "      <td>-0.5</td>\n",
       "      <td>26.0</td>\n",
       "      <td>7.9250</td>\n",
       "      <td>0.1</td>\n",
       "      <td>1</td>\n",
       "      <td>2</td>\n",
       "    </tr>\n",
       "  </tbody>\n",
       "</table>\n",
       "</div>"
      ],
      "text/plain": [
       "   Survived  Pclass  Sex   Age     Fare  Embarked  family  call\n",
       "0         0       3  0.5  22.0   7.2500       0.1       2     1\n",
       "1         1       1 -0.5  38.0  71.2833      -0.4       2     3\n",
       "2         1       3 -0.5  26.0   7.9250       0.1       1     2"
      ]
     },
     "execution_count": 66,
     "metadata": {},
     "output_type": "execute_result"
    }
   ],
   "source": [
    "train.head(3)"
   ]
  },
  {
   "cell_type": "markdown",
   "id": "2e9d6557-e1bc-47b6-bd71-a2447064e269",
   "metadata": {
    "jp-MarkdownHeadingCollapsed": true,
    "tags": []
   },
   "source": [
    "### 缺失值处理"
   ]
  },
  {
   "cell_type": "markdown",
   "id": "becf3cc7-5b14-4c69-9ff4-e4f5ed510e37",
   "metadata": {},
   "source": [
    "#### Fare的填充及其归一化"
   ]
  },
  {
   "cell_type": "code",
   "execution_count": 67,
   "id": "81b9c4df-d83c-431a-92e9-13d82a41a744",
   "metadata": {},
   "outputs": [
    {
     "data": {
      "text/html": [
       "<div>\n",
       "<style scoped>\n",
       "    .dataframe tbody tr th:only-of-type {\n",
       "        vertical-align: middle;\n",
       "    }\n",
       "\n",
       "    .dataframe tbody tr th {\n",
       "        vertical-align: top;\n",
       "    }\n",
       "\n",
       "    .dataframe thead th {\n",
       "        text-align: right;\n",
       "    }\n",
       "</style>\n",
       "<table border=\"1\" class=\"dataframe\">\n",
       "  <thead>\n",
       "    <tr style=\"text-align: right;\">\n",
       "      <th></th>\n",
       "      <th>Pclass</th>\n",
       "      <th>Sex</th>\n",
       "      <th>Age</th>\n",
       "      <th>Fare</th>\n",
       "      <th>Embarked</th>\n",
       "      <th>family</th>\n",
       "      <th>call</th>\n",
       "    </tr>\n",
       "  </thead>\n",
       "  <tbody>\n",
       "    <tr>\n",
       "      <th>152</th>\n",
       "      <td>3</td>\n",
       "      <td>0.5</td>\n",
       "      <td>60.5</td>\n",
       "      <td>NaN</td>\n",
       "      <td>0.1</td>\n",
       "      <td>1</td>\n",
       "      <td>1</td>\n",
       "    </tr>\n",
       "  </tbody>\n",
       "</table>\n",
       "</div>"
      ],
      "text/plain": [
       "     Pclass  Sex   Age  Fare  Embarked  family  call\n",
       "152       3  0.5  60.5   NaN       0.1       1     1"
      ]
     },
     "execution_count": 67,
     "metadata": {},
     "output_type": "execute_result"
    }
   ],
   "source": [
    "test[test['Fare'].isnull()]"
   ]
  },
  {
   "cell_type": "code",
   "execution_count": 68,
   "id": "e27c5072-cdcb-485f-a025-12191b5528fc",
   "metadata": {},
   "outputs": [],
   "source": [
    "#用中位数进行填充\n",
    "test['Fare'].fillna(test['Fare'].dropna().median(), inplace=True)"
   ]
  },
  {
   "cell_type": "code",
   "execution_count": 69,
   "id": "a53bb558-f66e-415b-bc28-ceeb8e251db0",
   "metadata": {},
   "outputs": [
    {
     "data": {
      "text/html": [
       "<div>\n",
       "<style scoped>\n",
       "    .dataframe tbody tr th:only-of-type {\n",
       "        vertical-align: middle;\n",
       "    }\n",
       "\n",
       "    .dataframe tbody tr th {\n",
       "        vertical-align: top;\n",
       "    }\n",
       "\n",
       "    .dataframe thead th {\n",
       "        text-align: right;\n",
       "    }\n",
       "</style>\n",
       "<table border=\"1\" class=\"dataframe\">\n",
       "  <thead>\n",
       "    <tr style=\"text-align: right;\">\n",
       "      <th></th>\n",
       "      <th>Pclass</th>\n",
       "      <th>Sex</th>\n",
       "      <th>Age</th>\n",
       "      <th>Fare</th>\n",
       "      <th>Embarked</th>\n",
       "      <th>family</th>\n",
       "      <th>call</th>\n",
       "    </tr>\n",
       "  </thead>\n",
       "  <tbody>\n",
       "  </tbody>\n",
       "</table>\n",
       "</div>"
      ],
      "text/plain": [
       "Empty DataFrame\n",
       "Columns: [Pclass, Sex, Age, Fare, Embarked, family, call]\n",
       "Index: []"
      ]
     },
     "execution_count": 69,
     "metadata": {},
     "output_type": "execute_result"
    }
   ],
   "source": [
    "test[test['Fare'].isnull()]"
   ]
  },
  {
   "cell_type": "code",
   "execution_count": 70,
   "id": "855c0d51-59c1-4638-bea9-d3f301161ed3",
   "metadata": {},
   "outputs": [
    {
     "data": {
      "text/plain": [
       "0      0.015282\n",
       "1      0.013663\n",
       "2      0.018909\n",
       "3      0.016908\n",
       "4      0.023984\n",
       "         ...   \n",
       "413    0.015713\n",
       "414    0.212559\n",
       "415    0.014151\n",
       "416    0.015713\n",
       "417    0.043640\n",
       "Name: Fare, Length: 418, dtype: float64"
      ]
     },
     "execution_count": 70,
     "metadata": {},
     "output_type": "execute_result"
    }
   ],
   "source": [
    "#Fare归一化\n",
    "train['Fare']=(train['Fare']-train['Fare'].min())/train['Fare'].max()-train['Fare'].min()\n",
    "test['Fare']=(test['Fare']-test['Fare'].min())/test['Fare'].max()-test['Fare'].min()\n",
    "test['Fare']"
   ]
  },
  {
   "cell_type": "markdown",
   "id": "4a157325-a36f-45f3-ac76-1c7b763889dc",
   "metadata": {},
   "source": [
    "#### age的预测填充及其归一化"
   ]
  },
  {
   "cell_type": "markdown",
   "id": "8544a527-a085-4ff8-ade7-b8a14ccc5d68",
   "metadata": {},
   "source": [
    "<font color='#ff590b'><font size=5> 下面使用神经网络对Age进行预测 </font><br/>"
   ]
  },
  {
   "cell_type": "code",
   "execution_count": 71,
   "id": "ee2e8a05-4a2a-4142-8cac-a4ed9b77d5f9",
   "metadata": {},
   "outputs": [],
   "source": [
    "#搭建神经网络\n",
    "class agenet(nn.Module):\n",
    "\n",
    "    def __init__(self):\n",
    "        super(agenet, self).__init__()\n",
    "\n",
    "        self.conv1 = nn.Sequential(\n",
    "            nn.Linear(6, 10)\n",
    "        )\n",
    "        self.conv2 = nn.Sequential(\n",
    "           nn.Linear(10, 12)\n",
    "        )\n",
    "        self.conv3 = nn.Sequential(\n",
    "           nn.Linear(12, 7)\n",
    "        ) \n",
    "        self.conv4 = nn.Sequential(\n",
    "           nn.Linear(7, 4)\n",
    "        ) \n",
    "     \n",
    "        self.outlayer = nn.Linear(4, 1)\n",
    "\n",
    "    def forward(self, x):\n",
    "        \"\"\"\n",
    "\n",
    "        :param x:\n",
    "        :return:\n",
    "        \"\"\"\n",
    "    \n",
    "        x = F.relu(self.conv1(x))\n",
    "        x = F.relu(self.conv2(x))\n",
    "        x = F.relu(self.conv3(x))\n",
    "        x = F.relu(self.conv4(x))\n",
    "        x = self.outlayer(x)\n",
    "        return x"
   ]
  },
  {
   "cell_type": "markdown",
   "id": "4a69f26e-5e1a-4a43-a34e-501d3310d08a",
   "metadata": {},
   "source": [
    "<font color='#ff590b'><font size=5> 生成训练集，测试集 </font><br/>"
   ]
  },
  {
   "cell_type": "code",
   "execution_count": 72,
   "id": "36e234c6-1196-4d83-8bd4-e58b4abc9ab0",
   "metadata": {},
   "outputs": [],
   "source": [
    "#生成训练集\n",
    "x=pd.concat(\n",
    "    [train.dropna()\n",
    "    .drop('Survived',axis=1)\n",
    "    .drop('Age',axis=1)\n",
    "    ,test.dropna()\n",
    "    .drop('Age',axis=1)]\n",
    "    ,axis=0\n",
    "    ,join='outer',ignore_index=True)\n",
    "\n",
    "#生成训练集标签\n",
    "x_label=pd.concat(\n",
    "    [train.dropna()['Age']\n",
    "    ,test.dropna()['Age']]\n",
    "    ,axis=0\n",
    "    ,join='outer',ignore_index=True)\n",
    "\n",
    "#数据转换\n",
    "x_label=torch.from_numpy(np.array(x_label)).to(torch.float32)"
   ]
  },
  {
   "cell_type": "code",
   "execution_count": 73,
   "id": "3368f882-8881-451e-905d-99b70a8151b4",
   "metadata": {},
   "outputs": [],
   "source": [
    "#正常test测试集\n",
    "pred=pd.concat(\n",
    "    [\n",
    "    train[train.isnull().values==True].drop('Survived',axis=1).drop('Age',axis=1)\n",
    "    ,\n",
    "    test[test.isnull().values==True].drop('Age',axis=1)\n",
    "    ]\n",
    "    ,axis=0\n",
    "    ,join='outer',ignore_index=True)\n",
    "\n",
    "#数据装换\n",
    "pred=torch.from_numpy(np.array(pred)).to(torch.float32)"
   ]
  },
  {
   "cell_type": "markdown",
   "id": "c5b22815-8bf2-446b-8814-9cee76ee5bd3",
   "metadata": {},
   "source": [
    "<font color='#ff590b'><font size=5> 模型训练 </font><br/>"
   ]
  },
  {
   "cell_type": "code",
   "execution_count": 74,
   "id": "aaf92f29-687d-44a8-95ce-62b6554ae3f9",
   "metadata": {},
   "outputs": [],
   "source": [
    "model=agenet()\n",
    "optimizer = optim.Adam(model.parameters(), lr=1e-2)\n",
    "train_tensor=torch.from_numpy(np.array(x[0:700])).to(torch.float32)\n",
    "test_tensor=torch.from_numpy(np.array(x[700:])).to(torch.float32)\n",
    "losses=[]      #记录损失值\n",
    "step=[]        #记录训练次数\n",
    "total_loss=0   #总损失\n",
    "for i in range(50):\n",
    "    for j in range(700):\n",
    "        temp=torch.zeros(1,6)\n",
    "        temp[0]=train_tensor[j]\n",
    "        model.train()\n",
    "        optimizer.zero_grad()     #剃度清零\n",
    "        logits = model(temp)\n",
    "        loss_fn=nn.MSELoss()      #损失函数\n",
    "        loss= loss_fn(logits,x_label[j])\n",
    "        total_loss=+loss\n",
    "    total_loss/=700\n",
    "    total_loss.backward()         #反向传播\n",
    "    losses.append(total_loss.item())\n",
    "    step.append(i)\n",
    "    optimizer.step()    #调节权重"
   ]
  },
  {
   "cell_type": "markdown",
   "id": "e0acb594-8f02-47a0-9e57-24e4ee7d8185",
   "metadata": {},
   "source": [
    "<font color='#ff590b'><font size=5> 效果可以，似乎有些过拟合 </font><br/>"
   ]
  },
  {
   "cell_type": "code",
   "execution_count": 75,
   "id": "2b79f9a2-61e3-44e7-a2a1-a96f2c193b92",
   "metadata": {},
   "outputs": [
    {
     "data": {
      "text/plain": [
       "<matplotlib.collections.PathCollection at 0x150c22c8>"
      ]
     },
     "execution_count": 75,
     "metadata": {},
     "output_type": "execute_result"
    },
    {
     "data": {
      "image/png": "[encoded data removed]",
      "text/plain": [
       "<Figure size 432x288 with 1 Axes>"
      ]
     },
     "metadata": {},
     "output_type": "display_data"
    }
   ],
   "source": [
    "plt.scatter(step,losses)"
   ]
  },
  {
   "cell_type": "code",
   "execution_count": 76,
   "id": "72b21295-75a3-4204-a1bc-8be0b50c5f91",
   "metadata": {},
   "outputs": [],
   "source": [
    "#预测测试集数据\n",
    "predit=[]\n",
    "for j in range(1046-700):\n",
    "    temp1=torch.zeros(1,6)\n",
    "    temp1[0]=test_tensor[j]\n",
    "    predit.append(model(temp1).detach().numpy() )"
   ]
  },
  {
   "cell_type": "code",
   "execution_count": 77,
   "id": "f81a1580-adf1-4e5d-a986-e651fda9b22e",
   "metadata": {},
   "outputs": [
    {
     "data": {
      "text/plain": [
       "<matplotlib.collections.PathCollection at 0x14cdcbc8>"
      ]
     },
     "execution_count": 77,
     "metadata": {},
     "output_type": "execute_result"
    },
    {
     "data": {
      "image/png": "[encoded data removed]",
      "text/plain": [
       "<Figure size 432x288 with 1 Axes>"
      ]
     },
     "metadata": {},
     "output_type": "display_data"
    }
   ],
   "source": [
    "#画图查看效果\n",
    "plt.scatter(range(1046-700),predit)\n",
    "plt.scatter(range(1046-700),x_label[700:])"
   ]
  },
  {
   "cell_type": "markdown",
   "id": "e7790f18-608d-4c94-b6df-664b00d882fd",
   "metadata": {},
   "source": [
    "<font color='#ff590b'><font size=5> 似乎有些偏差，但并不影响 ，下面使用神经网络预测填充缺失值</font><br/>"
   ]
  },
  {
   "cell_type": "code",
   "execution_count": 78,
   "id": "db174c4c-cf6b-47b0-9b93-2e6a368630f8",
   "metadata": {},
   "outputs": [],
   "source": [
    "#获取缺失值索引\n",
    "index=pd.concat(\n",
    "    [\n",
    "    train[train.isnull().values==True]['Age']\n",
    "    ,\n",
    "    test[test.isnull().values==True]['Age']\n",
    "    ]\n",
    "    ,axis=0\n",
    "    ,join='outer').index"
   ]
  },
  {
   "cell_type": "code",
   "execution_count": 79,
   "id": "1b3d0d23-a4b7-40a5-a08b-88aba5ba393e",
   "metadata": {},
   "outputs": [],
   "source": [
    "#使用神经网络预测缺失值\n",
    "predit_=[]\n",
    "for j in range(263):\n",
    "    temp1=torch.zeros(1,6)\n",
    "    temp1[0]=pred[j]\n",
    "    predit_.append(model(temp1).detach().numpy()[0,0] )"
   ]
  },
  {
   "cell_type": "code",
   "execution_count": 80,
   "id": "e208e589-f69a-4533-8af4-c8decc0ef31c",
   "metadata": {},
   "outputs": [
    {
     "data": {
      "text/plain": [
       "Survived      0\n",
       "Pclass        0\n",
       "Sex           0\n",
       "Age         177\n",
       "Fare          0\n",
       "Embarked      0\n",
       "family        0\n",
       "call          0\n",
       "dtype: int64"
      ]
     },
     "execution_count": 80,
     "metadata": {},
     "output_type": "execute_result"
    }
   ],
   "source": [
    "train.isna().sum()"
   ]
  },
  {
   "cell_type": "code",
   "execution_count": 81,
   "id": "f121bd38-928d-42fc-bc9e-62d778d42f12",
   "metadata": {},
   "outputs": [],
   "source": [
    "#填充缺失值\n",
    "train['Age'].fillna(pd.Series(predit_[0:177],index[0:177]),inplace=True)\n",
    "test['Age'].fillna(pd.Series(predit_[177:],index[177:]),inplace=True)"
   ]
  },
  {
   "cell_type": "code",
   "execution_count": 82,
   "id": "aea157aa-ed4e-4593-9a2a-7af4a9e1cf18",
   "metadata": {},
   "outputs": [
    {
     "data": {
      "text/plain": [
       "Survived    0\n",
       "Pclass      0\n",
       "Sex         0\n",
       "Age         0\n",
       "Fare        0\n",
       "Embarked    0\n",
       "family      0\n",
       "call        0\n",
       "dtype: int64"
      ]
     },
     "execution_count": 82,
     "metadata": {},
     "output_type": "execute_result"
    }
   ],
   "source": [
    "train.isnull().sum()"
   ]
  },
  {
   "cell_type": "code",
   "execution_count": 83,
   "id": "89e8c224-b857-4dc8-9f8d-c1e846ea0902",
   "metadata": {},
   "outputs": [
    {
     "data": {
      "text/plain": [
       "0      0.281711\n",
       "1      0.446184\n",
       "2      0.643553\n",
       "3      0.183026\n",
       "4      0.117237\n",
       "         ...   \n",
       "413    0.111138\n",
       "414    0.340921\n",
       "415    0.334342\n",
       "416    0.111138\n",
       "417    0.383990\n",
       "Name: Age, Length: 418, dtype: float64"
      ]
     },
     "execution_count": 83,
     "metadata": {},
     "output_type": "execute_result"
    }
   ],
   "source": [
    "#对数据进行归一化\n",
    "train['Age']=(train['Age']-train['Age'].min())/train['Age'].max()-train['Age'].min()\n",
    "test['Age']=(test['Age']-test['Age'].min())/test['Age'].max()-test['Age'].min()\n",
    "test['Age']"
   ]
  },
  {
   "cell_type": "markdown",
   "id": "8c4752eb-8456-41a7-ab1c-aca6bc369a93",
   "metadata": {
    "tags": []
   },
   "source": [
    "### 模型训练与模型验证"
   ]
  },
  {
   "cell_type": "code",
   "execution_count": 84,
   "id": "a2a7ac79-9707-41c4-a5f2-1f7385f5bd96",
   "metadata": {},
   "outputs": [
    {
     "data": {
      "text/plain": [
       "((891, 7), (891,), (418, 7))"
      ]
     },
     "execution_count": 84,
     "metadata": {},
     "output_type": "execute_result"
    }
   ],
   "source": [
    "#数据集划分\n",
    "X_train = train.drop(\"Survived\", axis=1)\n",
    "Y_train = train[\"Survived\"]\n",
    "X_test  = test.copy()\n",
    "X_train.shape, Y_train.shape, X_test.shape"
   ]
  },
  {
   "cell_type": "markdown",
   "id": "3de6db2a-8708-4e05-a737-5cc476d4a6a8",
   "metadata": {
    "tags": []
   },
   "source": [
    "#### 逻辑回归"
   ]
  },
  {
   "cell_type": "code",
   "execution_count": 85,
   "id": "09eebe92-0b3d-42dd-81cf-4dcc21a775a1",
   "metadata": {},
   "outputs": [
    {
     "data": {
      "text/plain": [
       "82.2"
      ]
     },
     "execution_count": 85,
     "metadata": {},
     "output_type": "execute_result"
    }
   ],
   "source": [
    "#逻辑回归\n",
    "logreg = LogisticRegression()\n",
    "logreg.fit(X_train[0:700], Y_train[0:700])\n",
    "Y_pred = logreg.predict(X_test)\n",
    "acc_log = round(logreg.score(X_train[700:], Y_train[700:]) * 100, 2)\n",
    "acc_log"
   ]
  },
  {
   "cell_type": "code",
   "execution_count": 86,
   "id": "735eda05-0b9b-4476-89cd-a1df65241ed4",
   "metadata": {},
   "outputs": [
    {
     "data": {
      "text/html": [
       "<div>\n",
       "<style scoped>\n",
       "    .dataframe tbody tr th:only-of-type {\n",
       "        vertical-align: middle;\n",
       "    }\n",
       "\n",
       "    .dataframe tbody tr th {\n",
       "        vertical-align: top;\n",
       "    }\n",
       "\n",
       "    .dataframe thead th {\n",
       "        text-align: right;\n",
       "    }\n",
       "</style>\n",
       "<table border=\"1\" class=\"dataframe\">\n",
       "  <thead>\n",
       "    <tr style=\"text-align: right;\">\n",
       "      <th></th>\n",
       "      <th>Feature</th>\n",
       "      <th>Correlation</th>\n",
       "    </tr>\n",
       "  </thead>\n",
       "  <tbody>\n",
       "    <tr>\n",
       "      <th>3</th>\n",
       "      <td>Fare</td>\n",
       "      <td>0.558564</td>\n",
       "    </tr>\n",
       "    <tr>\n",
       "      <th>6</th>\n",
       "      <td>call</td>\n",
       "      <td>0.483823</td>\n",
       "    </tr>\n",
       "    <tr>\n",
       "      <th>4</th>\n",
       "      <td>Embarked</td>\n",
       "      <td>-0.261221</td>\n",
       "    </tr>\n",
       "    <tr>\n",
       "      <th>5</th>\n",
       "      <td>family</td>\n",
       "      <td>-0.265438</td>\n",
       "    </tr>\n",
       "    <tr>\n",
       "      <th>0</th>\n",
       "      <td>Pclass</td>\n",
       "      <td>-0.868191</td>\n",
       "    </tr>\n",
       "    <tr>\n",
       "      <th>2</th>\n",
       "      <td>Age</td>\n",
       "      <td>-1.634762</td>\n",
       "    </tr>\n",
       "    <tr>\n",
       "      <th>1</th>\n",
       "      <td>Sex</td>\n",
       "      <td>-2.272243</td>\n",
       "    </tr>\n",
       "  </tbody>\n",
       "</table>\n",
       "</div>"
      ],
      "text/plain": [
       "    Feature  Correlation\n",
       "3      Fare     0.558564\n",
       "6      call     0.483823\n",
       "4  Embarked    -0.261221\n",
       "5    family    -0.265438\n",
       "0    Pclass    -0.868191\n",
       "2       Age    -1.634762\n",
       "1       Sex    -2.272243"
      ]
     },
     "execution_count": 86,
     "metadata": {},
     "output_type": "execute_result"
    }
   ],
   "source": [
    "#查看Survived与其他属性的相关性\n",
    "coeff_df = pd.DataFrame(train.columns.delete(0))\n",
    "coeff_df.columns = ['Feature']\n",
    "coeff_df[\"Correlation\"] = pd.Series(logreg.coef_[0])\n",
    "\n",
    "coeff_df.sort_values(by='Correlation', ascending=False)"
   ]
  },
  {
   "cell_type": "markdown",
   "id": "93df8913-6fcc-4db2-ba9c-2302598a338b",
   "metadata": {},
   "source": [
    "#### 支持向量机"
   ]
  },
  {
   "cell_type": "code",
   "execution_count": 87,
   "id": "c3b16ecb-2d22-4c09-a027-9d4d474d1ead",
   "metadata": {},
   "outputs": [
    {
     "data": {
      "text/plain": [
       "85.34"
      ]
     },
     "execution_count": 87,
     "metadata": {},
     "output_type": "execute_result"
    }
   ],
   "source": [
    "#SVM\n",
    "svc = SVC()\n",
    "svc.fit(X_train[0:700], Y_train[0:700])\n",
    "Y_pred = svc.predict(X_test)\n",
    "acc_svc = round(svc.score(X_train[700:], Y_train[700:]) * 100, 2)\n",
    "acc_svc"
   ]
  },
  {
   "cell_type": "markdown",
   "id": "01b4f4df-d0df-41ee-8e8c-2e3ab0d1b493",
   "metadata": {},
   "source": [
    "#### KNN"
   ]
  },
  {
   "cell_type": "code",
   "execution_count": 88,
   "id": "6d853aee-883e-4811-a391-1a5ab9ff71d3",
   "metadata": {},
   "outputs": [
    {
     "data": {
      "text/plain": [
       "80.1"
      ]
     },
     "execution_count": 88,
     "metadata": {},
     "output_type": "execute_result"
    }
   ],
   "source": [
    "#KNN\n",
    "knn = KNeighborsClassifier(n_neighbors = 3)\n",
    "knn.fit(X_train[0:700], Y_train[0:700])\n",
    "Y_pred = knn.predict(X_test)\n",
    "acc_knn = round(knn.score(X_train[700:], Y_train[700:]) * 100, 2)\n",
    "acc_knn"
   ]
  },
  {
   "cell_type": "markdown",
   "id": "7513915a-c052-4983-b0a4-276accc0d6ad",
   "metadata": {},
   "source": [
    "#### 朴素贝叶斯"
   ]
  },
  {
   "cell_type": "code",
   "execution_count": 89,
   "id": "ce41a8ea-d196-4686-a514-058b73ae69f2",
   "metadata": {},
   "outputs": [
    {
     "data": {
      "text/plain": [
       "81.68"
      ]
     },
     "execution_count": 89,
     "metadata": {},
     "output_type": "execute_result"
    }
   ],
   "source": [
    "#朴素贝叶斯\n",
    "gaussian = GaussianNB()\n",
    "gaussian.fit(X_train[0:700], Y_train[0:700])\n",
    "Y_pred = gaussian.predict(X_test)\n",
    "acc_gaussian = round(gaussian.score(X_train[700:], Y_train[700:]) * 100, 2)\n",
    "acc_gaussian"
   ]
  },
  {
   "cell_type": "markdown",
   "id": "5eebd4e1-134d-4480-bdc5-4c2344d63851",
   "metadata": {},
   "source": [
    "#### 感知机"
   ]
  },
  {
   "cell_type": "code",
   "execution_count": 90,
   "id": "f9abf710-01e6-4122-b2b5-e2aa39d8d0e6",
   "metadata": {},
   "outputs": [
    {
     "data": {
      "text/plain": [
       "79.58"
      ]
     },
     "execution_count": 90,
     "metadata": {},
     "output_type": "execute_result"
    }
   ],
   "source": [
    "#感知机\n",
    "perceptron = Perceptron()\n",
    "perceptron.fit(X_train[0:700], Y_train[0:700])\n",
    "Y_pred = perceptron.predict(X_test)\n",
    "acc_perceptron = round(perceptron.score(X_train[700:], Y_train[700:]) * 100, 2)\n",
    "acc_perceptron"
   ]
  },
  {
   "cell_type": "markdown",
   "id": "7382fccf-2d2a-4fce-a1dd-c0e360031161",
   "metadata": {},
   "source": [
    "#### 线性SVC"
   ]
  },
  {
   "cell_type": "code",
   "execution_count": 91,
   "id": "6adb9e1e-7c08-4ca1-9540-f999667679eb",
   "metadata": {},
   "outputs": [
    {
     "data": {
      "text/plain": [
       "82.72"
      ]
     },
     "execution_count": 91,
     "metadata": {},
     "output_type": "execute_result"
    }
   ],
   "source": [
    "#线性SVC\n",
    "linear_svc = LinearSVC()\n",
    "linear_svc.fit(X_train[0:700], Y_train[0:700])\n",
    "Y_pred = linear_svc.predict(X_test)\n",
    "acc_linear_svc = round(linear_svc.score(X_train[700:], Y_train[700:]) * 100, 2)\n",
    "acc_linear_svc"
   ]
  },
  {
   "cell_type": "markdown",
   "id": "5bc3f6a6-5874-4128-abb8-e74f5c52ca71",
   "metadata": {},
   "source": [
    "#### 随机剃度下降"
   ]
  },
  {
   "cell_type": "code",
   "execution_count": 92,
   "id": "0aaba115-b0ab-460b-9ca2-9a741c229088",
   "metadata": {},
   "outputs": [
    {
     "data": {
      "text/plain": [
       "78.01"
      ]
     },
     "execution_count": 92,
     "metadata": {},
     "output_type": "execute_result"
    }
   ],
   "source": [
    "#随机剃度下降\n",
    "sgd = SGDClassifier()\n",
    "sgd.fit(X_train[0:700], Y_train[0:700])\n",
    "Y_pred = sgd.predict(X_test)\n",
    "acc_sgd = round(sgd.score(X_train[700:], Y_train[700:]) * 100, 2)\n",
    "acc_sgd"
   ]
  },
  {
   "cell_type": "markdown",
   "id": "9dafa51c-ebf6-4808-a6b0-a991611f0654",
   "metadata": {},
   "source": [
    "#### 决策树"
   ]
  },
  {
   "cell_type": "code",
   "execution_count": 93,
   "id": "75ebfda5-f1f6-4c0b-a375-db0929fd2a71",
   "metadata": {},
   "outputs": [
    {
     "data": {
      "text/plain": [
       "75.92"
      ]
     },
     "execution_count": 93,
     "metadata": {},
     "output_type": "execute_result"
    }
   ],
   "source": [
    "#决策树\n",
    "decision_tree = DecisionTreeClassifier()\n",
    "decision_tree.fit(X_train[0:700], Y_train[0:700])\n",
    "Y_pred = decision_tree.predict(X_test)\n",
    "acc_decision_tree = round(decision_tree.score(X_train[700:], Y_train[700:]) * 100, 2)\n",
    "acc_decision_tree"
   ]
  },
  {
   "cell_type": "markdown",
   "id": "b519030f-a22f-4f74-9eb2-d0302495fe99",
   "metadata": {},
   "source": [
    "#### 随机森林"
   ]
  },
  {
   "cell_type": "code",
   "execution_count": 94,
   "id": "c3f03267-5c46-41fd-afe9-3c3348f95791",
   "metadata": {},
   "outputs": [
    {
     "data": {
      "text/plain": [
       "81.15"
      ]
     },
     "execution_count": 94,
     "metadata": {},
     "output_type": "execute_result"
    }
   ],
   "source": [
    "#随机森林\n",
    "random_forest = RandomForestClassifier(n_estimators=100)\n",
    "random_forest.fit(X_train[0:700], Y_train[0:700])\n",
    "Y_pred = random_forest.predict(X_test)\n",
    "random_forest.score(X_train[700:], Y_train[700:])\n",
    "acc_random_forest = round(random_forest.score(X_train[700:], Y_train[700:]) * 100, 2)\n",
    "acc_random_forest"
   ]
  },
  {
   "cell_type": "code",
   "execution_count": 95,
   "id": "cd49009c-4016-4803-a54e-0ad2bb0e2f99",
   "metadata": {},
   "outputs": [
    {
     "data": {
      "text/html": [
       "<div>\n",
       "<style scoped>\n",
       "    .dataframe tbody tr th:only-of-type {\n",
       "        vertical-align: middle;\n",
       "    }\n",
       "\n",
       "    .dataframe tbody tr th {\n",
       "        vertical-align: top;\n",
       "    }\n",
       "\n",
       "    .dataframe thead th {\n",
       "        text-align: right;\n",
       "    }\n",
       "</style>\n",
       "<table border=\"1\" class=\"dataframe\">\n",
       "  <thead>\n",
       "    <tr style=\"text-align: right;\">\n",
       "      <th></th>\n",
       "      <th>Model</th>\n",
       "      <th>Score</th>\n",
       "    </tr>\n",
       "  </thead>\n",
       "  <tbody>\n",
       "    <tr>\n",
       "      <th>0</th>\n",
       "      <td>Support Vector Machines</td>\n",
       "      <td>85.34</td>\n",
       "    </tr>\n",
       "    <tr>\n",
       "      <th>7</th>\n",
       "      <td>Linear SVC</td>\n",
       "      <td>82.72</td>\n",
       "    </tr>\n",
       "    <tr>\n",
       "      <th>2</th>\n",
       "      <td>Logistic Regression</td>\n",
       "      <td>82.20</td>\n",
       "    </tr>\n",
       "    <tr>\n",
       "      <th>4</th>\n",
       "      <td>Naive Bayes</td>\n",
       "      <td>81.68</td>\n",
       "    </tr>\n",
       "    <tr>\n",
       "      <th>3</th>\n",
       "      <td>Random Forest</td>\n",
       "      <td>81.15</td>\n",
       "    </tr>\n",
       "    <tr>\n",
       "      <th>1</th>\n",
       "      <td>KNN</td>\n",
       "      <td>80.10</td>\n",
       "    </tr>\n",
       "    <tr>\n",
       "      <th>5</th>\n",
       "      <td>Perceptron</td>\n",
       "      <td>79.58</td>\n",
       "    </tr>\n",
       "    <tr>\n",
       "      <th>6</th>\n",
       "      <td>Stochastic Gradient Decent</td>\n",
       "      <td>78.01</td>\n",
       "    </tr>\n",
       "    <tr>\n",
       "      <th>8</th>\n",
       "      <td>Decision Tree</td>\n",
       "      <td>75.92</td>\n",
       "    </tr>\n",
       "  </tbody>\n",
       "</table>\n",
       "</div>"
      ],
      "text/plain": [
       "                        Model  Score\n",
       "0     Support Vector Machines  85.34\n",
       "7                  Linear SVC  82.72\n",
       "2         Logistic Regression  82.20\n",
       "4                 Naive Bayes  81.68\n",
       "3               Random Forest  81.15\n",
       "1                         KNN  80.10\n",
       "5                  Perceptron  79.58\n",
       "6  Stochastic Gradient Decent  78.01\n",
       "8               Decision Tree  75.92"
      ]
     },
     "execution_count": 95,
     "metadata": {},
     "output_type": "execute_result"
    }
   ],
   "source": [
    "#模型比较\n",
    "models = pd.DataFrame({\n",
    "    'Model': ['Support Vector Machines', 'KNN', 'Logistic Regression', \n",
    "              'Random Forest', 'Naive Bayes', 'Perceptron', \n",
    "              'Stochastic Gradient Decent', 'Linear SVC', \n",
    "              'Decision Tree'],\n",
    "    'Score': [acc_svc, acc_knn, acc_log, \n",
    "              acc_random_forest, acc_gaussian, acc_perceptron, \n",
    "              acc_sgd, acc_linear_svc, acc_decision_tree]})\n",
    "models.sort_values(by='Score', ascending=False)"
   ]
  },
  {
   "cell_type": "markdown",
   "id": "ad1e3928-505f-4b20-893d-b29ef5d66585",
   "metadata": {},
   "source": [
    "## 模型调参(网格搜索)"
   ]
  },
  {
   "cell_type": "markdown",
   "id": "923a4d99-253e-42d6-a56a-abd888eb6dd8",
   "metadata": {},
   "source": [
    "<font color='#ff590b'><font size=5> 选择随机森林，支持向量机，KNN，决策树网格搜索调参数 </font><br/>"
   ]
  },
  {
   "cell_type": "markdown",
   "id": "ba8451c3-aa90-4812-b025-65677a8f37a5",
   "metadata": {
    "tags": []
   },
   "source": [
    "### 随机森林"
   ]
  },
  {
   "cell_type": "markdown",
   "id": "50811a56-4870-4604-a4c2-432058e9606c",
   "metadata": {},
   "source": [
    "#### n_estimators"
   ]
  },
  {
   "cell_type": "code",
   "execution_count": 126,
   "id": "4d4449dc-ff80-4107-bfc0-33ed4c7a8437",
   "metadata": {},
   "outputs": [],
   "source": [
    "# n_estimatorsw参数优化\n",
    "scores_n=[]\n",
    "for i in range(10,150,5):\n",
    "    random_forest = RandomForestClassifier(n_estimators=i)\n",
    "    random_forest.fit(X_train[0:700], Y_train[0:700])\n",
    "    Y_pred = random_forest.predict(X_test)\n",
    "    random_forest.score(X_train[700:], Y_train[700:])\n",
    "    acc_random_forest = round(random_forest.score(X_train[700:], Y_train[700:]) * 100, 2)\n",
    "    scores_n.append([i,acc_random_forest])"
   ]
  },
  {
   "cell_type": "code",
   "execution_count": 127,
   "id": "2615bf2f-f170-4d80-804e-f2db66bdf5ad",
   "metadata": {},
   "outputs": [
    {
     "data": {
      "text/plain": [
       "[[10, 84.82],\n",
       " [15, 82.72],\n",
       " [20, 82.2],\n",
       " [25, 80.1],\n",
       " [30, 80.63],\n",
       " [35, 82.72],\n",
       " [40, 82.2],\n",
       " [45, 83.25],\n",
       " [50, 81.15],\n",
       " [55, 81.15],\n",
       " [60, 81.15],\n",
       " [65, 81.68],\n",
       " [70, 80.63],\n",
       " [75, 81.68],\n",
       " [80, 82.72],\n",
       " [85, 81.15],\n",
       " [90, 82.2],\n",
       " [95, 81.15],\n",
       " [100, 82.2],\n",
       " [105, 81.68],\n",
       " [110, 79.58],\n",
       " [115, 83.25],\n",
       " [120, 83.25],\n",
       " [125, 81.68],\n",
       " [130, 80.63],\n",
       " [135, 82.2],\n",
       " [140, 82.2],\n",
       " [145, 82.2]]"
      ]
     },
     "execution_count": 127,
     "metadata": {},
     "output_type": "execute_result"
    }
   ],
   "source": [
    "scores_n"
   ]
  },
  {
   "cell_type": "code",
   "execution_count": 98,
   "id": "e5fdc5db-c6c6-4591-8227-671a37689864",
   "metadata": {},
   "outputs": [
    {
     "data": {
      "text/plain": [
       "[[10, 82.72],\n",
       " [15, 82.72],\n",
       " [20, 80.63],\n",
       " [25, 80.1],\n",
       " [30, 81.15],\n",
       " [35, 81.68],\n",
       " [40, 81.15],\n",
       " [45, 80.1],\n",
       " [50, 82.2],\n",
       " [55, 79.06],\n",
       " [60, 83.25],\n",
       " [65, 83.25],\n",
       " [70, 80.63],\n",
       " [75, 81.68],\n",
       " [80, 82.2],\n",
       " [85, 81.15],\n",
       " [90, 82.2],\n",
       " [95, 80.63],\n",
       " [100, 81.15],\n",
       " [105, 82.72],\n",
       " [110, 81.68],\n",
       " [115, 81.68],\n",
       " [120, 80.63],\n",
       " [125, 82.2],\n",
       " [130, 82.2],\n",
       " [135, 81.68],\n",
       " [140, 81.68],\n",
       " [145, 82.72]]"
      ]
     },
     "execution_count": 98,
     "metadata": {},
     "output_type": "execute_result"
    }
   ],
   "source": [
    "scores_n"
   ]
  },
  {
   "cell_type": "markdown",
   "id": "9b695ddb-00eb-46a6-a977-6e872ae08d4a",
   "metadata": {},
   "source": [
    "#### max_features"
   ]
  },
  {
   "cell_type": "code",
   "execution_count": 99,
   "id": "1e7ae968-b716-4c41-b373-1c0ff9e53c1c",
   "metadata": {},
   "outputs": [],
   "source": [
    "#max_features参数优化\n",
    "num_m=[]\n",
    "scores_m=[]\n",
    "for i in range(1,8):\n",
    "    random_forest = RandomForestClassifier(n_estimators=85,max_features=i)\n",
    "    random_forest.fit(X_train[0:700], Y_train[0:700])\n",
    "    Y_pred = random_forest.predict(X_test)\n",
    "    random_forest.score(X_train[700:], Y_train[700:])\n",
    "    acc_random_forest = round(random_forest.score(X_train[700:], Y_train[700:]) * 100, 2)\n",
    "    num_m.append(i)\n",
    "    scores_m.append(acc_random_forest)"
   ]
  },
  {
   "cell_type": "code",
   "execution_count": 125,
   "id": "e68e0b2c-0b92-4533-b727-6214ee08e407",
   "metadata": {},
   "outputs": [
    {
     "data": {
      "text/plain": [
       "[81.15, 80.63, 82.2, 82.72, 80.1, 81.15, 81.68]"
      ]
     },
     "execution_count": 125,
     "metadata": {},
     "output_type": "execute_result"
    }
   ],
   "source": [
    "scores_m"
   ]
  },
  {
   "cell_type": "code",
   "execution_count": 122,
   "id": "cdb4aeeb-79b5-4df9-a5ed-712e56a88c52",
   "metadata": {},
   "outputs": [],
   "source": [
    "#同时优化两个参数\n",
    "scores_t=[]\n",
    "for i in range(1,8):\n",
    "    for j in range(10,100,5):\n",
    "        random_forest = RandomForestClassifier(n_estimators=j,max_features=i)\n",
    "        random_forest.fit(X_train[0:700], Y_train[0:700])\n",
    "        Y_pred = random_forest.predict(X_test)\n",
    "        random_forest.score(X_train[700:], Y_train[700:])\n",
    "        acc_random_forest = round(random_forest.score(X_train[700:], Y_train[700:]) * 100, 2)\n",
    "        scores_t.append([i,j,acc_random_forest])"
   ]
  },
  {
   "cell_type": "code",
   "execution_count": 123,
   "id": "e872dd66-da9c-4b25-b66a-a0eb1a80453c",
   "metadata": {},
   "outputs": [
    {
     "data": {
      "text/plain": [
       "[[2, 95, 81.68], [3, 10, 81.15], [3, 15, 80.1], [3, 20, 80.1], [3, 25, 80.63]]"
      ]
     },
     "execution_count": 123,
     "metadata": {},
     "output_type": "execute_result"
    }
   ],
   "source": [
    "scores_t[35:40]"
   ]
  },
  {
   "cell_type": "markdown",
   "id": "8cd0d6d3-a150-45d9-a6fe-6f8378046c1c",
   "metadata": {},
   "source": [
    "### KNN"
   ]
  },
  {
   "cell_type": "code",
   "execution_count": 103,
   "id": "9070ba5c-71f0-43d6-8048-8ae2db3cf7a5",
   "metadata": {},
   "outputs": [],
   "source": [
    "#n_neighbors参数优化\n",
    "num_knn=[]\n",
    "scores_knn=[]\n",
    "for i in range(1,10):\n",
    "    knn = KNeighborsClassifier(n_neighbors = i)\n",
    "    knn.fit(X_train[0:700], Y_train[0:700])\n",
    "    Y_pred = knn.predict(X_test)\n",
    "    acc_knn = round(knn.score(X_train[700:], Y_train[700:]) * 100, 2)\n",
    "    num_knn.append(i)\n",
    "    scores_knn.append(acc_knn)"
   ]
  },
  {
   "cell_type": "code",
   "execution_count": 104,
   "id": "5531e731-9b7e-48b3-9ff1-06fd152fad90",
   "metadata": {},
   "outputs": [
    {
     "data": {
      "text/plain": [
       "[72.25, 81.15, 80.1, 81.15, 80.63, 81.68, 83.77, 82.2, 82.2]"
      ]
     },
     "execution_count": 104,
     "metadata": {},
     "output_type": "execute_result"
    }
   ],
   "source": [
    "scores_knn"
   ]
  },
  {
   "cell_type": "markdown",
   "id": "44bb4a27-68fa-4e02-a020-09b363e525d9",
   "metadata": {
    "tags": []
   },
   "source": [
    "### 决策树"
   ]
  },
  {
   "cell_type": "code",
   "execution_count": 105,
   "id": "a7ead3a1-2d78-46c8-b1a4-8419f1314cc2",
   "metadata": {},
   "outputs": [],
   "source": [
    "#max_depth参数优化\n",
    "scores_dec=[]\n",
    "for i in range(1,20):\n",
    "    decision_tree = DecisionTreeClassifier(max_depth=i)\n",
    "    decision_tree.fit(X_train[0:700], Y_train[0:700])\n",
    "    Y_pred = decision_tree.predict(X_test)\n",
    "    acc_decision_tree = round(decision_tree.score(X_train[700:], Y_train[700:]) * 100, 2)\n",
    "    scores_dec.append([i,acc_decision_tree])"
   ]
  },
  {
   "cell_type": "code",
   "execution_count": 106,
   "id": "a023b0bd-e31a-4d88-91bb-aef0491bc4f9",
   "metadata": {},
   "outputs": [
    {
     "data": {
      "text/plain": [
       "[[1, 79.06],\n",
       " [2, 80.63],\n",
       " [3, 85.34],\n",
       " [4, 84.29],\n",
       " [5, 82.72],\n",
       " [6, 82.72],\n",
       " [7, 83.77],\n",
       " [8, 82.72],\n",
       " [9, 81.15],\n",
       " [10, 81.15],\n",
       " [11, 76.96],\n",
       " [12, 76.44],\n",
       " [13, 76.44],\n",
       " [14, 75.39],\n",
       " [15, 74.87],\n",
       " [16, 75.92],\n",
       " [17, 75.92],\n",
       " [18, 76.44],\n",
       " [19, 75.92]]"
      ]
     },
     "execution_count": 106,
     "metadata": {},
     "output_type": "execute_result"
    }
   ],
   "source": [
    "scores_dec"
   ]
  },
  {
   "cell_type": "markdown",
   "id": "27b1f5a6-26d8-4ce6-8b59-0bfa2f0396c0",
   "metadata": {},
   "source": [
    "### 支持向量机"
   ]
  },
  {
   "cell_type": "code",
   "execution_count": 107,
   "id": "c7b9dbba-980a-4419-b803-03f8eef788d2",
   "metadata": {},
   "outputs": [],
   "source": [
    "#C参数优化\n",
    "scores_svc=[]\n",
    "for i in range(1,10):\n",
    "    svc = SVC(C=i*0.1)\n",
    "    svc.fit(X_train[0:700], Y_train[0:700])\n",
    "    Y_pred = svc.predict(X_test)\n",
    "    acc_svc = round(svc.score(X_train[700:], Y_train[700:]) * 100, 2)\n",
    "    scores_svc.append([i*0.1,acc_svc])"
   ]
  },
  {
   "cell_type": "code",
   "execution_count": 108,
   "id": "92cb0054-4ede-45e7-966c-a6d324f9d55c",
   "metadata": {},
   "outputs": [
    {
     "data": {
      "text/plain": [
       "[[0.1, 83.77],\n",
       " [0.2, 83.77],\n",
       " [0.30000000000000004, 83.77],\n",
       " [0.4, 84.82],\n",
       " [0.5, 85.86],\n",
       " [0.6000000000000001, 84.82],\n",
       " [0.7000000000000001, 85.34],\n",
       " [0.8, 85.34],\n",
       " [0.9, 85.34]]"
      ]
     },
     "execution_count": 108,
     "metadata": {},
     "output_type": "execute_result"
    }
   ],
   "source": [
    "scores_svc"
   ]
  },
  {
   "cell_type": "markdown",
   "id": "494add65-8907-4c54-8b59-9a3ce2f7bbbf",
   "metadata": {
    "tags": []
   },
   "source": [
    "## 模型融合(Stacking)"
   ]
  },
  {
   "cell_type": "code",
   "execution_count": 109,
   "id": "c884d98d-65e8-43a9-bfd5-1522b8d7c8e8",
   "metadata": {},
   "outputs": [
    {
     "data": {
      "text/plain": [
       "85.86"
      ]
     },
     "execution_count": 109,
     "metadata": {},
     "output_type": "execute_result"
    }
   ],
   "source": [
    "#使用最优参数预测并查看SVC准确率\n",
    "svc = SVC(C=0.5)\n",
    "svc.fit(X_train[0:700], Y_train[0:700])\n",
    "Y1 = svc.predict(X_train[700:])\n",
    "acc_svc = round(svc.score(X_train[700:], Y_train[700:]) * 100, 2)\n",
    "acc_svc"
   ]
  },
  {
   "cell_type": "code",
   "execution_count": 110,
   "id": "bf20eaa0-67bf-4fb1-b0f6-9c6c71fb709c",
   "metadata": {},
   "outputs": [
    {
     "data": {
      "text/plain": [
       "81.15"
      ]
     },
     "execution_count": 110,
     "metadata": {},
     "output_type": "execute_result"
    }
   ],
   "source": [
    "#使用最优参数预测并查看KNN准确率\n",
    "knn = KNeighborsClassifier(n_neighbors = 4)\n",
    "knn.fit(X_train[0:700], Y_train[0:700])\n",
    "Y_2 = knn.predict(X_train[700:])\n",
    "acc_knn = round(knn.score(X_train[700:], Y_train[700:]) * 100, 2)\n",
    "acc_knn"
   ]
  },
  {
   "cell_type": "code",
   "execution_count": 120,
   "id": "547ae763-abf7-46b6-b0ee-2980de078e93",
   "metadata": {},
   "outputs": [
    {
     "data": {
      "text/plain": [
       "80.6282722513089"
      ]
     },
     "execution_count": 120,
     "metadata": {},
     "output_type": "execute_result"
    }
   ],
   "source": [
    "#使用最优参数预测并查看随机森林准确率\n",
    "random_forest = RandomForestClassifier(n_estimators=10,max_features=3)\n",
    "random_forest.fit(X_train[0:700], Y_train[0:700])\n",
    "Y_3 = random_forest.predict(X_train[700:])\n",
    "acc_random_forest=random_forest.score(X_train[700:], Y_train[700:])*100\n",
    "acc_random_forest"
   ]
  },
  {
   "cell_type": "code",
   "execution_count": 112,
   "id": "da1c57ad-298d-488a-ace4-7a968a22c6a1",
   "metadata": {},
   "outputs": [
    {
     "data": {
      "text/plain": [
       "85.34"
      ]
     },
     "execution_count": 112,
     "metadata": {},
     "output_type": "execute_result"
    }
   ],
   "source": [
    "#使用最优参数预测并查看决策树准确率\n",
    "decision_tree = DecisionTreeClassifier(max_depth=3)\n",
    "decision_tree.fit(X_train[0:700], Y_train[0:700])\n",
    "Y_4 = decision_tree.predict(X_train[700:])\n",
    "acc_decision_tree = round(decision_tree.score(X_train[700:], Y_train[700:]) * 100, 2)\n",
    "acc_decision_tree"
   ]
  },
  {
   "cell_type": "code",
   "execution_count": 113,
   "id": "67163505-4a2e-4e00-8231-cf6cfa1db37b",
   "metadata": {},
   "outputs": [
    {
     "data": {
      "text/plain": [
       "82.2"
      ]
     },
     "execution_count": 113,
     "metadata": {},
     "output_type": "execute_result"
    }
   ],
   "source": [
    "#使用最优参数预测并查看逻辑回归准确率\n",
    "logreg = LogisticRegression()\n",
    "logreg.fit(X_train[0:700], Y_train[0:700])\n",
    "Y_5 = logreg.predict(X_train[700:])\n",
    "acc_log = round(logreg.score(X_train[700:], Y_train[700:]) * 100, 2)\n",
    "acc_log"
   ]
  },
  {
   "cell_type": "code",
   "execution_count": 114,
   "id": "9809c523-ee8c-4a64-a9ab-c59d66d1eba9",
   "metadata": {},
   "outputs": [],
   "source": [
    "#Stacking模型第二步\n",
    "Y=Y1+Y_2+Y_3+Y_4+Y_5"
   ]
  },
  {
   "cell_type": "code",
   "execution_count": 115,
   "id": "ea9cebed-dd24-4d1c-8d81-854ea03ddb6c",
   "metadata": {},
   "outputs": [
    {
     "data": {
      "text/plain": [
       "array([5, 2, 3, 0, 0, 0, 5, 1, 5, 4, 5, 1, 0, 1, 0, 0, 5, 5, 0, 0, 5, 0,\n",
       "       1, 0, 0, 0, 5, 5, 0, 4, 5, 1, 0, 0, 0, 0, 0, 2, 0, 0, 1, 1, 5, 0,\n",
       "       0, 3, 0, 5, 0, 1, 5, 4, 0, 0, 5, 5, 0, 0, 0, 3, 0, 0, 0, 5, 0, 5,\n",
       "       2, 5, 0, 0, 0, 0, 5, 0, 5, 0, 0, 4, 0, 5, 3, 5, 2, 0, 0, 0, 4, 0,\n",
       "       4, 1, 0, 0, 0, 0, 0, 0, 3, 4, 0, 4, 1, 5, 5, 4, 0, 0, 1, 4, 0, 5,\n",
       "       0, 0, 0, 0, 0, 0, 5, 0, 0, 0, 5, 0, 1, 4, 0, 0, 2, 5, 0, 5, 3, 5,\n",
       "       0, 0, 0, 5, 0, 0, 1, 0, 0, 0, 5, 0, 0, 0, 0, 0, 2, 5, 0, 0, 5, 5,\n",
       "       5, 3, 5, 0, 5, 0, 0, 0, 5, 0, 0, 5, 5, 1, 0, 4, 0, 5, 1, 0, 5, 3,\n",
       "       0, 0, 0, 5, 5, 0, 5, 0, 0, 0, 1, 5, 3, 0, 1], dtype=int64)"
      ]
     },
     "execution_count": 115,
     "metadata": {},
     "output_type": "execute_result"
    }
   ],
   "source": [
    "Y"
   ]
  },
  {
   "cell_type": "code",
   "execution_count": 116,
   "id": "5b8c84c6-ab95-48e2-9a37-900bf9978f80",
   "metadata": {},
   "outputs": [],
   "source": [
    "#得出最终预测结果\n",
    "Y[Y<3]=0\n",
    "Y[Y>=3]=1\n"
   ]
  },
  {
   "cell_type": "code",
   "execution_count": 117,
   "id": "f87a8e16-835e-4abd-9c30-f888d93d6614",
   "metadata": {},
   "outputs": [
    {
     "data": {
      "text/plain": [
       "array([1, 0, 1, 0, 0, 0, 1, 0, 1, 1, 1, 0, 0, 0, 0, 0, 1, 1, 0, 0, 1, 0,\n",
       "       0, 0, 0, 0, 1, 1, 0, 1, 1, 0, 0, 0, 0, 0, 0, 0, 0, 0, 0, 0, 1, 0,\n",
       "       0, 1, 0, 1, 0, 0, 1, 1, 0, 0, 1, 1, 0, 0, 0, 1, 0, 0, 0, 1, 0, 1,\n",
       "       0, 1, 0, 0, 0, 0, 1, 0, 1, 0, 0, 1, 0, 1, 1, 1, 0, 0, 0, 0, 1, 0,\n",
       "       1, 0, 0, 0, 0, 0, 0, 0, 1, 1, 0, 1, 0, 1, 1, 1, 0, 0, 0, 1, 0, 1,\n",
       "       0, 0, 0, 0, 0, 0, 1, 0, 0, 0, 1, 0, 0, 1, 0, 0, 0, 1, 0, 1, 1, 1,\n",
       "       0, 0, 0, 1, 0, 0, 0, 0, 0, 0, 1, 0, 0, 0, 0, 0, 0, 1, 0, 0, 1, 1,\n",
       "       1, 1, 1, 0, 1, 0, 0, 0, 1, 0, 0, 1, 1, 0, 0, 1, 0, 1, 0, 0, 1, 1,\n",
       "       0, 0, 0, 1, 1, 0, 1, 0, 0, 0, 0, 1, 1, 0, 0], dtype=int64)"
      ]
     },
     "execution_count": 117,
     "metadata": {},
     "output_type": "execute_result"
    }
   ],
   "source": [
    "Y"
   ]
  },
  {
   "cell_type": "code",
   "execution_count": 118,
   "id": "82adf43f-57e8-4b03-a212-e5f898827604",
   "metadata": {},
   "outputs": [
    {
     "data": {
      "text/plain": [
       "164"
      ]
     },
     "execution_count": 118,
     "metadata": {},
     "output_type": "execute_result"
    }
   ],
   "source": [
    "#计算预测准确个数\n",
    "(Y==Y_train[700:]).sum()"
   ]
  },
  {
   "cell_type": "code",
   "execution_count": 119,
   "id": "c62e0249-19fd-4cea-a373-a0513aa73488",
   "metadata": {},
   "outputs": [
    {
     "data": {
      "text/plain": [
       "85.86387434554975"
      ]
     },
     "execution_count": 119,
     "metadata": {},
     "output_type": "execute_result"
    }
   ],
   "source": [
    "#计算准确率\n",
    "(Y==Y_train[700:]).sum()/191*100"
   ]
  },
  {
   "cell_type": "markdown",
   "id": "10ba1d74-112b-463b-b247-c1a8ee74749f",
   "metadata": {},
   "source": [
    "# 收获与感悟"
   ]
  },
  {
   "cell_type": "markdown",
   "id": "16b9fcc3-be30-440a-a646-54b774d9cd83",
   "metadata": {},
   "source": [
    "- <font color='#ff590b'><font size=5> miniconda 现在知道为什么推荐miniconda而不是conda了，包多了真的很卡 </font><br/>\n",
    "- <font color='#ff590b'><font size=5> 第一次学到网格搜索，没想到超参数还可以这么调 </font><br/>\n",
    "- <font color='#ff590b'><font size=5> 特征工程真的太重要了，怎样充分的利用每一个信息，才能使得模型最优，全靠特征工程 </font><br/>\n",
    "- <font color='#ff590b'><font size=5> 数据分析就是要利用每一点有用的信息，充分探索数据之间的关系 </font><br/>"
   ]
  }
 ],
 "metadata": {
  "kernelspec": {
   "display_name": "Python 3 (ipykernel)",
   "language": "python",
   "name": "python3"
  },
  "language_info": {
   "codemirror_mode": {
    "name": "ipython",
    "version": 3
   },
   "file_extension": ".py",
   "mimetype": "text/x-python",
   "name": "python",
   "nbconvert_exporter": "python",
   "pygments_lexer": "ipython3",
   "version": "3.7.9"
  },
  "toc-autonumbering": true,
  "toc-showcode": false,
  "toc-showmarkdowntxt": false,
  "toc-showtags": false
 },
 "nbformat": 4,
 "nbformat_minor": 5
}
